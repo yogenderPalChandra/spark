{
 "cells": [
  {
   "cell_type": "markdown",
   "id": "handed-abraham",
   "metadata": {},
   "source": [
    "### \"If after drudges you make the code work, just remember that CPU is a rock you tricked into thinking - Unknown!\""
   ]
  },
  {
   "cell_type": "markdown",
   "id": "collaborative-stick",
   "metadata": {},
   "source": [
    "### Status of Task: Completed All three tasks!!! \n",
    "### I will demonstrate three methods to tackle with such kind of problems\n",
    "####  Method1: Spark-nlp  by John Snow Labs\n",
    "#### Why Spark-nlp for this solution?\n",
    "#### Since we are dealing with text data (on spark),  its not any harm to assume the end consumer of the scrapped data could be some Natural Language Processing (NLP) pipline. NLP actually tockenises, vectorises, and do compute/memory intensive mathmatical operations such as word2vec on textual data under the hood. So that is the reason why I choose spark-nlp to demonstrat first part of the Task. \n",
    "\n",
    "#### Method 2: Regular Transformations, Actions Operations on RDDs\n",
    "#### I tried to solve Second part of Task using regular RDD Operations, they are self explined and I have added comments\n",
    "\n",
    "#### Method 3: Using custom Beautiful Soup user defined functions (UDF) in Spark. [The most versitle and easy]\n",
    "\n",
    "##### Most of the data is on RDDs except Pandas DF.  I transformed RDD dfs to Pandas dfs before writing to csv. One can still directly write from RDDs using RDD joins or SQL queries on RDDs, but my time ran out so I had to do Pandas which is quick and easy. But anyway when one calls Action task the data is dumped into the driver node instantly. My code just adds Pandas layer before dumping to driver node. One can even use Pandas API built on top of Spark.  That way it will be lazy loading and final dump will take place on the final Action opertion. "
   ]
  },
  {
   "cell_type": "code",
   "execution_count": 2,
   "id": "tested-stack",
   "metadata": {},
   "outputs": [],
   "source": [
    "#prepare environment:\n",
    "#One can use conda environment:\n",
    "#cd /path/to/directory/where/files/are/located\n",
    "#conda create -n pyspark_env\n",
    "#conda activate pyspark_env\n",
    "#conda install -c conda-forge pyspark\n",
    "\n",
    "#Export path to where pyspark is installed:\n",
    "#export SPARK_HOME=/path/to/pyspark #Check correct path! its important otherwise spark will not run\n",
    "#optional if you want to launch from other terminals too\n",
    "#source ~/.bashrc\n",
    "\n",
    "#try if spark runs:\n",
    "#spark-shell #works\n",
    "\n",
    "#Install spark-nlp #https://nlp.johnsnowlabs.com/docs/en/install\n",
    "#conda install -c johnsnowlabs spark-nlp\n",
    "\n",
    "#Export python path for both driver and worker nodes:\n",
    "#python version shuld be same for both\n",
    "#thats why it is important to work in conda/Python virtual environment,so as to not to clash the python versions\n",
    "# in both nodes.\n",
    "#export PYSPARK_PYTHON=\"path/to/python\" # path shoudl be something like cwd/conda/env/bin/...\n",
    "#export PYSPARK_DRIVER_PYTHON=\"path/to/python\"\n",
    "\n",
    "#install Beautiful Soup too\n",
    "#conda install -c anaconda beautifulsoup4"
   ]
  },
  {
   "cell_type": "code",
   "execution_count": 3,
   "id": "virtual-treat",
   "metadata": {},
   "outputs": [
    {
     "name": "stderr",
     "output_type": "stream",
     "text": [
      "/home/yogender/.local/lib/python3.6/site-packages/pyspark/context.py:238: FutureWarning: Python 3.6 support is deprecated in Spark 3.2.\n",
      "  FutureWarning\n"
     ]
    }
   ],
   "source": [
    "from pyspark.sql import SQLContext\n",
    "from pyspark import SparkContext\n",
    "from pyspark.sql.types import *\n",
    "from pyspark.sql import SQLContext, Row\n",
    "from sparknlp.base import *\n",
    "from sparknlp.pretrained import PretrainedPipeline\n",
    "import sparknlp\n",
    "from pyspark.sql import SparkSession\n",
    "\n",
    "\n",
    "from sparknlp.annotator import *\n",
    "from pyspark.ml import Pipeline\n",
    "#from py4j.java_gateway import java_import\n",
    "import sparknlp\n",
    "sc = sparknlp.start()\n",
    "#sc.stop()"
   ]
  },
  {
   "cell_type": "code",
   "execution_count": 4,
   "id": "pointed-relaxation",
   "metadata": {},
   "outputs": [
    {
     "name": "stderr",
     "output_type": "stream",
     "text": [
      "/home/yogender/.local/lib/python3.6/site-packages/pyspark/sql/context.py:79: FutureWarning: Deprecated in 3.0.0. Use SparkSession.builder.getOrCreate() instead.\n",
      "  FutureWarning\n"
     ]
    }
   ],
   "source": [
    "sqlContext = SQLContext(sc)"
   ]
  },
  {
   "cell_type": "code",
   "execution_count": 5,
   "id": "compound-wisdom",
   "metadata": {},
   "outputs": [],
   "source": [
    "#sc = SparkContext()\n",
    "#sqlContext = SQLContext(sc)"
   ]
  },
  {
   "cell_type": "code",
   "execution_count": 6,
   "id": "european-associate",
   "metadata": {},
   "outputs": [],
   "source": [
    "rdd_l = sc.sparkContext.wholeTextFiles(\"./*.html\")"
   ]
  },
  {
   "cell_type": "code",
   "execution_count": 7,
   "id": "floral-penny",
   "metadata": {},
   "outputs": [],
   "source": [
    "df = rdd_l.toDF(schema=[\"filename\", \"text\"]).select(\"text\")"
   ]
  },
  {
   "cell_type": "code",
   "execution_count": 8,
   "id": "straight-mouse",
   "metadata": {},
   "outputs": [],
   "source": [
    "rules = '''\n",
    "\n",
    ".\\d\\&\\w+\\;\\d+&\\w+;\\d+&\\w+;Kč* \n",
    "\n",
    "'''\n",
    "#\\S*\\d+\\S* Kč* \n",
    "with open('regex_rules.txt', 'w') as f:\n",
    "    \n",
    "    f.write(rules)"
   ]
  },
  {
   "cell_type": "code",
   "execution_count": 9,
   "id": "beneficial-italy",
   "metadata": {},
   "outputs": [
    {
     "data": {
      "text/plain": [
       "{Param(parent='RegexMatcher_5afd0e9697c6', name='lazyAnnotator', doc='Whether this AnnotatorModel acts as lazy in RecursivePipelines'): False,\n",
       " Param(parent='RegexMatcher_5afd0e9697c6', name='strategy', doc='MATCH_FIRST|MATCH_ALL|MATCH_COMPLETE'): 'MATCH_ALL'}"
      ]
     },
     "execution_count": 9,
     "metadata": {},
     "output_type": "execute_result"
    }
   ],
   "source": [
    "RegexMatcher().extractParamMap()"
   ]
  },
  {
   "cell_type": "code",
   "execution_count": 10,
   "id": "living-watson",
   "metadata": {},
   "outputs": [
    {
     "name": "stdout",
     "output_type": "stream",
     "text": [
      "+------------------------------+\n",
      "|                        result|\n",
      "+------------------------------+\n",
      "|[21&nbsp;500&nbsp;000&nbsp;Kč]|\n",
      "|[>5&nbsp;200&nbsp;000&nbsp;Kč]|\n",
      "|[10&nbsp;854&nbsp;900&nbsp;Kč]|\n",
      "|[>5&nbsp;565&nbsp;000&nbsp;Kč]|\n",
      "|[>1&nbsp;475&nbsp;000&nbsp;Kč]|\n",
      "|[>5&nbsp;500&nbsp;000&nbsp;Kč]|\n",
      "|[>2&nbsp;530&nbsp;000&nbsp;Kč]|\n",
      "|[>7&nbsp;511&nbsp;000&nbsp;Kč]|\n",
      "|[>1&nbsp;850&nbsp;000&nbsp;Kč]|\n",
      "|[>7&nbsp;490&nbsp;000&nbsp;Kč]|\n",
      "+------------------------------+\n",
      "\n"
     ]
    }
   ],
   "source": [
    "\n",
    "\n",
    "\n",
    "\n",
    "documentAssembler = DocumentAssembler()\\\n",
    "    .setInputCol(\"text\")\\\n",
    "    .setOutputCol(\"assembled\")\n",
    "\n",
    "regex_matcher = RegexMatcher()\\\n",
    "    .setInputCols('assembled')\\\n",
    "    .setStrategy(\"MATCH_ALL\")\\\n",
    "    .setOutputCol(\"regex_matches\")\\\n",
    "    .setExternalRules(path='./regex_rules.txt', delimiter=',')\n",
    "\n",
    "nlpPipeline = Pipeline(stages=[\n",
    "    documentAssembler, \n",
    "    regex_matcher\n",
    " ])\n",
    "\n",
    "pipelineModel = nlpPipeline.fit(df)\n",
    "#df = pipelineModel.transform(df)\n",
    "#empty_df = spark.createDataFrame([['']]).toDF(\"text\")\n",
    "\n",
    "#pipelineModel = nlpPipeline.fit(empty_df)\n",
    "\n",
    "match_df = pipelineModel.transform(df)\n",
    "\n",
    "match_df.select('regex_matches.result').show(truncate=50)"
   ]
  },
  {
   "cell_type": "code",
   "execution_count": 11,
   "id": "helpful-pillow",
   "metadata": {},
   "outputs": [],
   "source": [
    "#Convert df to rdd and flatten the list of list\n",
    "match_df_flat = match_df.select(\"regex_matches.result\").rdd.flatMap(lambda x: x[0])"
   ]
  },
  {
   "cell_type": "code",
   "execution_count": 12,
   "id": "private-outline",
   "metadata": {},
   "outputs": [
    {
     "data": {
      "text/plain": [
       "['21&nbsp;500&nbsp;000&nbsp;Kč',\n",
       " '>5&nbsp;200&nbsp;000&nbsp;Kč',\n",
       " '10&nbsp;854&nbsp;900&nbsp;Kč',\n",
       " '>5&nbsp;565&nbsp;000&nbsp;Kč',\n",
       " '>1&nbsp;475&nbsp;000&nbsp;Kč',\n",
       " '>5&nbsp;500&nbsp;000&nbsp;Kč',\n",
       " '>2&nbsp;530&nbsp;000&nbsp;Kč',\n",
       " '>7&nbsp;511&nbsp;000&nbsp;Kč',\n",
       " '>1&nbsp;850&nbsp;000&nbsp;Kč',\n",
       " '>7&nbsp;490&nbsp;000&nbsp;Kč']"
      ]
     },
     "execution_count": 12,
     "metadata": {},
     "output_type": "execute_result"
    }
   ],
   "source": [
    "#collect on driver node\n",
    "match_df_flat.collect()"
   ]
  },
  {
   "cell_type": "code",
   "execution_count": 106,
   "id": "pressing-indie",
   "metadata": {},
   "outputs": [],
   "source": [
    "# Do Some cleaning to make it more human readable form. &nbsp is some kind of HTML strings.\n",
    "#HTML strings are not problems with beautiful soup. Soup automatically parses them and cleans them out.\n",
    "#But this is an spark-nlp application so I am just demonstrating how to clean unwanted strings from spark rdd\n",
    "#Using intrinsic map transformation.\n",
    "match_df_flat1 = match_df_flat.map(lambda s: s.replace('&nbsp;', '')) \\\n",
    ".map(lambda s: s.replace('>', '')) \\\n",
    ".map(lambda s: s.replace('>', '')) \\\n",
    ".map(lambda s: s.replace('Kč', ' Kč')) \\\n",
    ".map(lambda s: s.split()) \\\n",
    ".map(lambda s: '{:,} {}'.format(int(s[0]), str(s[1])))\n",
    "#.map(lambda s: int(s[0]))\n",
    "#.map(lambda s: {} {}.format(int(s[0]), str(Kč)))\n",
    "#.map(lambda s: int(s[0]) + str('Kč'))\n"
   ]
  },
  {
   "cell_type": "code",
   "execution_count": 107,
   "id": "collectible-circumstances",
   "metadata": {},
   "outputs": [
    {
     "data": {
      "text/plain": [
       "['21,500,000 Kč',\n",
       " '5,200,000 Kč',\n",
       " '10,854,900 Kč',\n",
       " '5,565,000 Kč',\n",
       " '1,475,000 Kč',\n",
       " '5,500,000 Kč',\n",
       " '2,530,000 Kč',\n",
       " '7,511,000 Kč',\n",
       " '1,850,000 Kč',\n",
       " '7,490,000 Kč']"
      ]
     },
     "execution_count": 107,
     "metadata": {},
     "output_type": "execute_result"
    }
   ],
   "source": [
    "match_df_flat1.collect()"
   ]
  },
  {
   "cell_type": "code",
   "execution_count": 108,
   "id": "speaking-resident",
   "metadata": {},
   "outputs": [
    {
     "data": {
      "text/plain": [
       "PythonRDD[103] at RDD at PythonRDD.scala:53"
      ]
     },
     "execution_count": 108,
     "metadata": {},
     "output_type": "execute_result"
    }
   ],
   "source": [
    "match_df_flat1.map(lambda s: s.split())"
   ]
  },
  {
   "cell_type": "code",
   "execution_count": 109,
   "id": "gross-requirement",
   "metadata": {},
   "outputs": [
    {
     "data": {
      "text/plain": [
       "['21,500,000 Kč',\n",
       " '5,200,000 Kč',\n",
       " '10,854,900 Kč',\n",
       " '5,565,000 Kč',\n",
       " '1,475,000 Kč',\n",
       " '5,500,000 Kč',\n",
       " '2,530,000 Kč',\n",
       " '7,511,000 Kč',\n",
       " '1,850,000 Kč',\n",
       " '7,490,000 Kč']"
      ]
     },
     "execution_count": 109,
     "metadata": {},
     "output_type": "execute_result"
    }
   ],
   "source": [
    "match_df_flat1.collect()"
   ]
  },
  {
   "cell_type": "code",
   "execution_count": 110,
   "id": "still-diving",
   "metadata": {},
   "outputs": [],
   "source": [
    "#match_df = match_df.rdd.flatMap(lambda xs: [x[0] for x in xs])"
   ]
  },
  {
   "cell_type": "code",
   "execution_count": 111,
   "id": "medical-browse",
   "metadata": {},
   "outputs": [],
   "source": [
    "#match_df .collect("
   ]
  },
  {
   "cell_type": "code",
   "execution_count": 112,
   "id": "streaming-religion",
   "metadata": {},
   "outputs": [],
   "source": [
    "#name the rdd 'cost' we will use it to index kind of\n",
    "from pyspark.sql import Row\n",
    "\n",
    "row = Row(\"cost\") \n",
    "match_df_flat1_df= match_df_flat1.map(row).toDF()\n"
   ]
  },
  {
   "cell_type": "code",
   "execution_count": 113,
   "id": "answering-underwear",
   "metadata": {},
   "outputs": [
    {
     "data": {
      "text/plain": [
       "DataFrame[cost: string]"
      ]
     },
     "execution_count": 113,
     "metadata": {},
     "output_type": "execute_result"
    }
   ],
   "source": [
    "match_df_flat1_df"
   ]
  },
  {
   "cell_type": "code",
   "execution_count": 114,
   "id": "paperback-remainder",
   "metadata": {},
   "outputs": [],
   "source": [
    "match_df_pd_cost = match_df_flat1_df.toPandas()\n"
   ]
  },
  {
   "cell_type": "code",
   "execution_count": 115,
   "id": "wrong-instrumentation",
   "metadata": {},
   "outputs": [
    {
     "data": {
      "text/html": [
       "<div>\n",
       "<style scoped>\n",
       "    .dataframe tbody tr th:only-of-type {\n",
       "        vertical-align: middle;\n",
       "    }\n",
       "\n",
       "    .dataframe tbody tr th {\n",
       "        vertical-align: top;\n",
       "    }\n",
       "\n",
       "    .dataframe thead th {\n",
       "        text-align: right;\n",
       "    }\n",
       "</style>\n",
       "<table border=\"1\" class=\"dataframe\">\n",
       "  <thead>\n",
       "    <tr style=\"text-align: right;\">\n",
       "      <th></th>\n",
       "      <th>cost</th>\n",
       "    </tr>\n",
       "  </thead>\n",
       "  <tbody>\n",
       "    <tr>\n",
       "      <th>0</th>\n",
       "      <td>21,500,000 Kč</td>\n",
       "    </tr>\n",
       "    <tr>\n",
       "      <th>1</th>\n",
       "      <td>5,200,000 Kč</td>\n",
       "    </tr>\n",
       "    <tr>\n",
       "      <th>2</th>\n",
       "      <td>10,854,900 Kč</td>\n",
       "    </tr>\n",
       "    <tr>\n",
       "      <th>3</th>\n",
       "      <td>5,565,000 Kč</td>\n",
       "    </tr>\n",
       "    <tr>\n",
       "      <th>4</th>\n",
       "      <td>1,475,000 Kč</td>\n",
       "    </tr>\n",
       "    <tr>\n",
       "      <th>5</th>\n",
       "      <td>5,500,000 Kč</td>\n",
       "    </tr>\n",
       "    <tr>\n",
       "      <th>6</th>\n",
       "      <td>2,530,000 Kč</td>\n",
       "    </tr>\n",
       "    <tr>\n",
       "      <th>7</th>\n",
       "      <td>7,511,000 Kč</td>\n",
       "    </tr>\n",
       "    <tr>\n",
       "      <th>8</th>\n",
       "      <td>1,850,000 Kč</td>\n",
       "    </tr>\n",
       "    <tr>\n",
       "      <th>9</th>\n",
       "      <td>7,490,000 Kč</td>\n",
       "    </tr>\n",
       "  </tbody>\n",
       "</table>\n",
       "</div>"
      ],
      "text/plain": [
       "            cost\n",
       "0  21,500,000 Kč\n",
       "1   5,200,000 Kč\n",
       "2  10,854,900 Kč\n",
       "3   5,565,000 Kč\n",
       "4   1,475,000 Kč\n",
       "5   5,500,000 Kč\n",
       "6   2,530,000 Kč\n",
       "7   7,511,000 Kč\n",
       "8   1,850,000 Kč\n",
       "9   7,490,000 Kč"
      ]
     },
     "execution_count": 115,
     "metadata": {},
     "output_type": "execute_result"
    }
   ],
   "source": [
    "match_df_pd_cost"
   ]
  },
  {
   "cell_type": "code",
   "execution_count": 116,
   "id": "indian-hospital",
   "metadata": {},
   "outputs": [
    {
     "name": "stdout",
     "output_type": "stream",
     "text": [
      "[<Row('Masná, Praha 1 - Staré Město')>, <Row('Velvarská, Horoměřice')>, <Row('Libušina, Karlovy Vary')>, <Row('Pod Lipami, Praha 3 - Žižkov')>, <Row('Drnovská, Praha 6 - Ruzyně')>, <Row('V Průhoně, Mukařov - Žernovka')>, <Row('Mladoboleslavská, Mělník')>, <Row('Grafická, Praha 5 - Smíchov')>, <Row('Sametová, Liberec - Liberec VI-Rochlice')>, <Row('Jakubská, Praha 1 - Staré Město')>]\n"
     ]
    },
    {
     "data": {
      "text/plain": [
       "[Row(address='Masná, Praha 1 - Staré Město'),\n",
       " Row(address='Velvarská, Horoměřice'),\n",
       " Row(address='Libušina, Karlovy Vary'),\n",
       " Row(address='Pod Lipami, Praha 3 - Žižkov'),\n",
       " Row(address='Drnovská, Praha 6 - Ruzyně'),\n",
       " Row(address='V Průhoně, Mukařov - Žernovka'),\n",
       " Row(address='Mladoboleslavská, Mělník'),\n",
       " Row(address='Grafická, Praha 5 - Smíchov'),\n",
       " Row(address='Sametová, Liberec - Liberec VI-Rochlice'),\n",
       " Row(address='Jakubská, Praha 1 - Staré Město')]"
      ]
     },
     "execution_count": 116,
     "metadata": {},
     "output_type": "execute_result"
    }
   ],
   "source": [
    "#Some house keeping\n",
    "#rdd_l.map(lambda x: x[1]) takes the data out of tuple of rdd. because rdd when read using WholeTextFile stores\n",
    "# tuple(fileNamle, StringData).\n",
    "#.map(lambda x: x.split('\\n\\t')). i split the data by combination of next line and tab seperater.\n",
    "#.map(lambda x: x[6]) Pick up the 6th row from rdds as it is the intended class=\"location-text ng-binding\"\n",
    "#.map(lambda x: x.split('prodeji')), split by prodej to get meaningfull string\n",
    "#.map(lambda x: x[1]) some indexing to pick elemnt out of list of list\n",
    "#.map(lambda x: x.split(';')) split it at ; because thats where address seperates \n",
    "# .map(lambda x: x[0]) again pick element from lol (list of list) or tuple\n",
    "# .map(lambda x: x.strip(' ')) strip out empty space\n",
    "rdd1 = rdd_l.map(lambda x: x[1]).map(lambda x: x.split('\\n\\t')).map(lambda x: x[6]) \\\n",
    ".map(lambda x: x.split('prodeji')).map(lambda x: x[1]).map(lambda x: x.split(';')) \\\n",
    ".map(lambda x: x[0]).map(lambda x: x.strip(' ')).map(lambda x: str(x))\n",
    "\n",
    "rows_split_addr = rdd1.map(lambda p: Row(p))\n",
    "\n",
    "print(rows_split_addr.collect())\n",
    "\n",
    "schemaString = \"address\"\n",
    "fields = [StructField(field_name, StringType(), True) for field_name in schemaString.split()]\n",
    "schema = StructType(fields)\n",
    "addressSchema = sqlContext.createDataFrame(rows_split_addr, schema)\n",
    "#print(addressSchema.collect())\n",
    "addressSchema.repartition(1).write.csv(path='./data.csv', mode=\"append\", header=\"true\")\n",
    "addressSchema.collect()"
   ]
  },
  {
   "cell_type": "code",
   "execution_count": 117,
   "id": "pressed-nevada",
   "metadata": {},
   "outputs": [],
   "source": [
    "#Convert RDD dataframe to pandas DF\n",
    "address_pd_df = addressSchema.toPandas()"
   ]
  },
  {
   "cell_type": "code",
   "execution_count": 118,
   "id": "completed-forge",
   "metadata": {},
   "outputs": [
    {
     "data": {
      "text/html": [
       "<div>\n",
       "<style scoped>\n",
       "    .dataframe tbody tr th:only-of-type {\n",
       "        vertical-align: middle;\n",
       "    }\n",
       "\n",
       "    .dataframe tbody tr th {\n",
       "        vertical-align: top;\n",
       "    }\n",
       "\n",
       "    .dataframe thead th {\n",
       "        text-align: right;\n",
       "    }\n",
       "</style>\n",
       "<table border=\"1\" class=\"dataframe\">\n",
       "  <thead>\n",
       "    <tr style=\"text-align: right;\">\n",
       "      <th></th>\n",
       "      <th>address</th>\n",
       "    </tr>\n",
       "  </thead>\n",
       "  <tbody>\n",
       "    <tr>\n",
       "      <th>0</th>\n",
       "      <td>Masná, Praha 1 - Staré Město</td>\n",
       "    </tr>\n",
       "    <tr>\n",
       "      <th>1</th>\n",
       "      <td>Velvarská, Horoměřice</td>\n",
       "    </tr>\n",
       "    <tr>\n",
       "      <th>2</th>\n",
       "      <td>Libušina, Karlovy Vary</td>\n",
       "    </tr>\n",
       "    <tr>\n",
       "      <th>3</th>\n",
       "      <td>Pod Lipami, Praha 3 - Žižkov</td>\n",
       "    </tr>\n",
       "    <tr>\n",
       "      <th>4</th>\n",
       "      <td>Drnovská, Praha 6 - Ruzyně</td>\n",
       "    </tr>\n",
       "    <tr>\n",
       "      <th>5</th>\n",
       "      <td>V Průhoně, Mukařov - Žernovka</td>\n",
       "    </tr>\n",
       "    <tr>\n",
       "      <th>6</th>\n",
       "      <td>Mladoboleslavská, Mělník</td>\n",
       "    </tr>\n",
       "    <tr>\n",
       "      <th>7</th>\n",
       "      <td>Grafická, Praha 5 - Smíchov</td>\n",
       "    </tr>\n",
       "    <tr>\n",
       "      <th>8</th>\n",
       "      <td>Sametová, Liberec - Liberec VI-Rochlice</td>\n",
       "    </tr>\n",
       "    <tr>\n",
       "      <th>9</th>\n",
       "      <td>Jakubská, Praha 1 - Staré Město</td>\n",
       "    </tr>\n",
       "  </tbody>\n",
       "</table>\n",
       "</div>"
      ],
      "text/plain": [
       "                                   address\n",
       "0             Masná, Praha 1 - Staré Město\n",
       "1                    Velvarská, Horoměřice\n",
       "2                   Libušina, Karlovy Vary\n",
       "3             Pod Lipami, Praha 3 - Žižkov\n",
       "4               Drnovská, Praha 6 - Ruzyně\n",
       "5            V Průhoně, Mukařov - Žernovka\n",
       "6                 Mladoboleslavská, Mělník\n",
       "7              Grafická, Praha 5 - Smíchov\n",
       "8  Sametová, Liberec - Liberec VI-Rochlice\n",
       "9          Jakubská, Praha 1 - Staré Město"
      ]
     },
     "execution_count": 118,
     "metadata": {},
     "output_type": "execute_result"
    }
   ],
   "source": [
    "address_pd_df"
   ]
  },
  {
   "cell_type": "code",
   "execution_count": 119,
   "id": "extreme-monitor",
   "metadata": {},
   "outputs": [],
   "source": [
    "import pandas as pd\n",
    "df_concat_cost_address = pd.concat([match_df_pd_cost,address_pd_df], axis=1)"
   ]
  },
  {
   "cell_type": "code",
   "execution_count": 120,
   "id": "statewide-vitamin",
   "metadata": {},
   "outputs": [
    {
     "data": {
      "text/html": [
       "<div>\n",
       "<style scoped>\n",
       "    .dataframe tbody tr th:only-of-type {\n",
       "        vertical-align: middle;\n",
       "    }\n",
       "\n",
       "    .dataframe tbody tr th {\n",
       "        vertical-align: top;\n",
       "    }\n",
       "\n",
       "    .dataframe thead th {\n",
       "        text-align: right;\n",
       "    }\n",
       "</style>\n",
       "<table border=\"1\" class=\"dataframe\">\n",
       "  <thead>\n",
       "    <tr style=\"text-align: right;\">\n",
       "      <th></th>\n",
       "      <th>cost</th>\n",
       "      <th>address</th>\n",
       "    </tr>\n",
       "  </thead>\n",
       "  <tbody>\n",
       "    <tr>\n",
       "      <th>0</th>\n",
       "      <td>21,500,000 Kč</td>\n",
       "      <td>Masná, Praha 1 - Staré Město</td>\n",
       "    </tr>\n",
       "    <tr>\n",
       "      <th>1</th>\n",
       "      <td>5,200,000 Kč</td>\n",
       "      <td>Velvarská, Horoměřice</td>\n",
       "    </tr>\n",
       "    <tr>\n",
       "      <th>2</th>\n",
       "      <td>10,854,900 Kč</td>\n",
       "      <td>Libušina, Karlovy Vary</td>\n",
       "    </tr>\n",
       "    <tr>\n",
       "      <th>3</th>\n",
       "      <td>5,565,000 Kč</td>\n",
       "      <td>Pod Lipami, Praha 3 - Žižkov</td>\n",
       "    </tr>\n",
       "    <tr>\n",
       "      <th>4</th>\n",
       "      <td>1,475,000 Kč</td>\n",
       "      <td>Drnovská, Praha 6 - Ruzyně</td>\n",
       "    </tr>\n",
       "    <tr>\n",
       "      <th>5</th>\n",
       "      <td>5,500,000 Kč</td>\n",
       "      <td>V Průhoně, Mukařov - Žernovka</td>\n",
       "    </tr>\n",
       "    <tr>\n",
       "      <th>6</th>\n",
       "      <td>2,530,000 Kč</td>\n",
       "      <td>Mladoboleslavská, Mělník</td>\n",
       "    </tr>\n",
       "    <tr>\n",
       "      <th>7</th>\n",
       "      <td>7,511,000 Kč</td>\n",
       "      <td>Grafická, Praha 5 - Smíchov</td>\n",
       "    </tr>\n",
       "    <tr>\n",
       "      <th>8</th>\n",
       "      <td>1,850,000 Kč</td>\n",
       "      <td>Sametová, Liberec - Liberec VI-Rochlice</td>\n",
       "    </tr>\n",
       "    <tr>\n",
       "      <th>9</th>\n",
       "      <td>7,490,000 Kč</td>\n",
       "      <td>Jakubská, Praha 1 - Staré Město</td>\n",
       "    </tr>\n",
       "  </tbody>\n",
       "</table>\n",
       "</div>"
      ],
      "text/plain": [
       "            cost                                  address\n",
       "0  21,500,000 Kč             Masná, Praha 1 - Staré Město\n",
       "1   5,200,000 Kč                    Velvarská, Horoměřice\n",
       "2  10,854,900 Kč                   Libušina, Karlovy Vary\n",
       "3   5,565,000 Kč             Pod Lipami, Praha 3 - Žižkov\n",
       "4   1,475,000 Kč               Drnovská, Praha 6 - Ruzyně\n",
       "5   5,500,000 Kč            V Průhoně, Mukařov - Žernovka\n",
       "6   2,530,000 Kč                 Mladoboleslavská, Mělník\n",
       "7   7,511,000 Kč              Grafická, Praha 5 - Smíchov\n",
       "8   1,850,000 Kč  Sametová, Liberec - Liberec VI-Rochlice\n",
       "9   7,490,000 Kč          Jakubská, Praha 1 - Staré Město"
      ]
     },
     "execution_count": 120,
     "metadata": {},
     "output_type": "execute_result"
    }
   ],
   "source": [
    "df_concat_cost_address"
   ]
  },
  {
   "cell_type": "code",
   "execution_count": 121,
   "id": "aggregate-overhead",
   "metadata": {},
   "outputs": [],
   "source": [
    "rdd_l_split = rdd_l.map(lambda x: x[1])"
   ]
  },
  {
   "cell_type": "code",
   "execution_count": 122,
   "id": "living-agency",
   "metadata": {},
   "outputs": [],
   "source": [
    "from pyspark.sql import Row\n",
    "\n",
    "row = Row(\"val\") # Or some other column name\n",
    "rdd_df = rdd_l_split.map(row).toDF()"
   ]
  },
  {
   "cell_type": "code",
   "execution_count": 152,
   "id": "private-dominican",
   "metadata": {},
   "outputs": [],
   "source": [
    "import pandas as pd\n",
    "from bs4 import BeautifulSoup\n",
    "def processRecord(rdd_l):\n",
    "    \n",
    "    #import lxml.html.usedoctest\n",
    "    #page = urlopen(url)\n",
    "    #root = lxml.html.fromstring(tag_soup)\n",
    "    soup = BeautifulSoup(rdd_l, \"html.parser\")\n",
    "    #body = fromstring(tag_soup).find('.//body')\n",
    "    #rtnVal = soup.prettify()\n",
    "    #print (list(soup.children))\n",
    "    classes = []\n",
    "\n",
    "    for element in soup.find_all('ul', class_='params1'):\n",
    "        for il in element.find_all('li'):\n",
    "            text = il.get_text(strip=True).replace(u'\\xa0', u' ')\n",
    "            #text2 = il2.get_text(strip=True).replace(u'\\xa0', u' ')\n",
    "            #print ('text1 is :',text1)\n",
    "            #print ('text2 is :',text2)\n",
    "            classes.append(text)\n",
    "            #classes2.append(text2)\n",
    "    #df = pd.DataFrame([classes1, classes1])\n",
    "    return classes\n"
   ]
  },
  {
   "cell_type": "code",
   "execution_count": 153,
   "id": "historical-evanescence",
   "metadata": {},
   "outputs": [],
   "source": [
    "convertUDF = lambda z: processRecord(z)"
   ]
  },
  {
   "cell_type": "code",
   "execution_count": 154,
   "id": "fitted-mediterranean",
   "metadata": {},
   "outputs": [],
   "source": [
    "from pyspark.sql.types import *\n",
    "from pyspark.sql.functions import udf"
   ]
  },
  {
   "cell_type": "code",
   "execution_count": 155,
   "id": "organizational-numbers",
   "metadata": {},
   "outputs": [],
   "source": [
    "text_df_cleaned=rdd_df.withColumn('cleaned', udf(convertUDF, StringType())('val'))"
   ]
  },
  {
   "cell_type": "code",
   "execution_count": 156,
   "id": "floating-reduction",
   "metadata": {},
   "outputs": [],
   "source": [
    "text_df_cleaned_flat = text_df_cleaned.select(\"cleaned\").rdd.flatMap(lambda x: x)"
   ]
  },
  {
   "cell_type": "code",
   "execution_count": 157,
   "id": "painted-louis",
   "metadata": {},
   "outputs": [],
   "source": [
    "from bs4 import BeautifulSoup\n",
    "from pyspark.sql import Row\n",
    "\n",
    "row = Row(\"cleanedParams1\") \n",
    "\n",
    "text_df_cleaned_flat= text_df_cleaned_flat.map(row).toDF()"
   ]
  },
  {
   "cell_type": "code",
   "execution_count": 158,
   "id": "latter-spanish",
   "metadata": {},
   "outputs": [],
   "source": [
    "pd.set_option('display.max_colwidth', None)"
   ]
  },
  {
   "cell_type": "code",
   "execution_count": 159,
   "id": "musical-overhead",
   "metadata": {},
   "outputs": [],
   "source": [
    "text_df_cleaned_flat_param1_pd = text_df_cleaned_flat.select('cleanedParams1').toPandas()"
   ]
  },
  {
   "cell_type": "code",
   "execution_count": 160,
   "id": "hourly-professor",
   "metadata": {},
   "outputs": [
    {
     "data": {
      "text/html": [
       "<div>\n",
       "<style scoped>\n",
       "    .dataframe tbody tr th:only-of-type {\n",
       "        vertical-align: middle;\n",
       "    }\n",
       "\n",
       "    .dataframe tbody tr th {\n",
       "        vertical-align: top;\n",
       "    }\n",
       "\n",
       "    .dataframe thead th {\n",
       "        text-align: right;\n",
       "    }\n",
       "</style>\n",
       "<table border=\"1\" class=\"dataframe\">\n",
       "  <thead>\n",
       "    <tr style=\"text-align: right;\">\n",
       "      <th></th>\n",
       "      <th>cleanedParams1</th>\n",
       "    </tr>\n",
       "  </thead>\n",
       "  <tbody>\n",
       "    <tr>\n",
       "      <th>0</th>\n",
       "      <td>[Celková cena:21 500 000 Kč za nemovitost, včetně provize, ID zakázky:32863, Aktualizace:16.02.2021, Stavba:Cihlová, Stav objektu:Po rekonstrukci, Vlastnictví:Osobní]</td>\n",
       "    </tr>\n",
       "    <tr>\n",
       "      <th>1</th>\n",
       "      <td>[Celková cena:5 200 000 Kč za nemovitost, včetně provize, ID zakázky:729030, Aktualizace:08.02.2021, Stavba:Cihlová, Stav objektu:Velmi dobrý, Vlastnictví:Osobní, Umístění objektu:Klidná část obce, Podlaží:2. podlaží z celkem 3, Užitná plocha:78m2, Plocha podlahová:78m2]</td>\n",
       "    </tr>\n",
       "    <tr>\n",
       "      <th>2</th>\n",
       "      <td>[Celková cena:10 854 900 Kč (420 000 EUR) za nemovitost, včetně provize, Aktualizace:26.01.2021, ID:261724, Stavba:Smíšená, Stav objektu:Velmi dobrý, Vlastnictví:Osobní, Podlaží:2. podlaží, Užitná plocha:132m2, Balkón:, Parkování:]</td>\n",
       "    </tr>\n",
       "    <tr>\n",
       "      <th>3</th>\n",
       "      <td>[Celková cena:5 565 000 Kč za nemovitost, včetně provize, Poznámka k ceně:+ poplatky 3.500 ,- Kč, ID zakázky:N03409, Aktualizace:18.02.2021, Stavba:Cihlová, Stav objektu:Velmi dobrý, Vlastnictví:Osobní, Umístění objektu:Klidná část obce, Podlaží:4. podlaží z celkem 6, Užitná plocha:55m2, Plocha podlahová:55m2]</td>\n",
       "    </tr>\n",
       "    <tr>\n",
       "      <th>4</th>\n",
       "      <td>[Celková cena:1 475 000 Kč za nemovitost, včetně provize, Poznámka k ceně:včetně právního servisu a provize RK, ID zakázky:0253-NP01146, Aktualizace:11.02.2021, Anuita:4 Kč, Stavba:Cihlová, Stav objektu:Novostavba, Vlastnictví:Družstevní, Převod do OV:Ne, Umístění objektu:Centrum obce, Podlaží:4. podlaží z celkem 6, Užitná plocha:57m2, Plocha podlahová:57m2]</td>\n",
       "    </tr>\n",
       "    <tr>\n",
       "      <th>5</th>\n",
       "      <td>[Celková cena:5 500 000 Kč za nemovitost, Poznámka k ceně:cena je včetně provize a služeb RK, ID zakázky:NPDO4772, Aktualizace:15.02.2021, Stavba:Cihlová, Stav objektu:Novostavba, Vlastnictví:Osobní, Umístění objektu:Klidná část obce, Podlaží:1. podlaží z celkem 2, Užitná plocha:66m2]</td>\n",
       "    </tr>\n",
       "    <tr>\n",
       "      <th>6</th>\n",
       "      <td>[Celková cena:2 530 000 Kč za nemovitost, + provize RK, včetně právního servisu (k jednání), Poznámka k ceně:, 3500, ID zakázky:1579/1830, Aktualizace:15.02.2021, Stavba:Panelová, Stav objektu:Po rekonstrukci, Vlastnictví:Osobní, Podlaží:1. podlaží z celkem 5, Užitná plocha:44m2, Plocha podlahová:44m2]</td>\n",
       "    </tr>\n",
       "    <tr>\n",
       "      <th>7</th>\n",
       "      <td>[Celková cena:7 511 000 Kč za nemovitost, + provize RK, včetně právního servisu, Poznámka k ceně:+ provize RK, ID zakázky:202009Graf, Aktualizace:14.02.2021, Stavba:Cihlová, Stav objektu:Po rekonstrukci, Vlastnictví:Osobní, Umístění objektu:Centrum obce, Podlaží:4. podlaží z celkem 5 včetně 1 podzemního, Užitná plocha:58m2, Datum nastěhování:Ihned, Rok kolaudace:2021]</td>\n",
       "    </tr>\n",
       "    <tr>\n",
       "      <th>8</th>\n",
       "      <td>[Celková cena:1 850 000 Kč za nemovitost, Náklady na bydlení:3000,-Kč, Aktualizace:04.02.2021, ID:695644, Stavba:Panelová, Stav objektu:Před rekonstrukcí, Vlastnictví:Osobní, Umístění objektu:Klidná část obce, Podlaží:10. podlaží, Užitná plocha:33m2]</td>\n",
       "    </tr>\n",
       "    <tr>\n",
       "      <th>9</th>\n",
       "      <td>[Celková cena:7 490 000 Kč za nemovitost, včetně provize, ID zakázky:N05057, Aktualizace:26.10.2020, Stavba:Cihlová, Stav objektu:Velmi dobrý, Vlastnictví:Osobní, Podlaží:3. podlaží z celkem 4 včetně 1 podzemního, Užitná plocha:39m2]</td>\n",
       "    </tr>\n",
       "  </tbody>\n",
       "</table>\n",
       "</div>"
      ],
      "text/plain": [
       "                                                                                                                                                                                                                                                                                                                                                                       cleanedParams1\n",
       "0                                                                                                                                                                                                              [Celková cena:21 500 000 Kč za nemovitost, včetně provize, ID zakázky:32863, Aktualizace:16.02.2021, Stavba:Cihlová, Stav objektu:Po rekonstrukci, Vlastnictví:Osobní]\n",
       "1                                                                                                     [Celková cena:5 200 000 Kč za nemovitost, včetně provize, ID zakázky:729030, Aktualizace:08.02.2021, Stavba:Cihlová, Stav objektu:Velmi dobrý, Vlastnictví:Osobní, Umístění objektu:Klidná část obce, Podlaží:2. podlaží z celkem 3, Užitná plocha:78m2, Plocha podlahová:78m2]\n",
       "2                                                                                                                                             [Celková cena:10 854 900 Kč (420 000 EUR) za nemovitost, včetně provize, Aktualizace:26.01.2021, ID:261724, Stavba:Smíšená, Stav objektu:Velmi dobrý, Vlastnictví:Osobní, Podlaží:2. podlaží, Užitná plocha:132m2, Balkón:, Parkování:]\n",
       "3                                                             [Celková cena:5 565 000 Kč za nemovitost, včetně provize, Poznámka k ceně:+ poplatky 3.500 ,- Kč, ID zakázky:N03409, Aktualizace:18.02.2021, Stavba:Cihlová, Stav objektu:Velmi dobrý, Vlastnictví:Osobní, Umístění objektu:Klidná část obce, Podlaží:4. podlaží z celkem 6, Užitná plocha:55m2, Plocha podlahová:55m2]\n",
       "4            [Celková cena:1 475 000 Kč za nemovitost, včetně provize, Poznámka k ceně:včetně právního servisu a provize RK, ID zakázky:0253-NP01146, Aktualizace:11.02.2021, Anuita:4 Kč, Stavba:Cihlová, Stav objektu:Novostavba, Vlastnictví:Družstevní, Převod do OV:Ne, Umístění objektu:Centrum obce, Podlaží:4. podlaží z celkem 6, Užitná plocha:57m2, Plocha podlahová:57m2]\n",
       "5                                                                                       [Celková cena:5 500 000 Kč za nemovitost, Poznámka k ceně:cena je včetně provize a služeb RK, ID zakázky:NPDO4772, Aktualizace:15.02.2021, Stavba:Cihlová, Stav objektu:Novostavba, Vlastnictví:Osobní, Umístění objektu:Klidná část obce, Podlaží:1. podlaží z celkem 2, Užitná plocha:66m2]\n",
       "6                                                                     [Celková cena:2 530 000 Kč za nemovitost, + provize RK, včetně právního servisu (k jednání), Poznámka k ceně:, 3500, ID zakázky:1579/1830, Aktualizace:15.02.2021, Stavba:Panelová, Stav objektu:Po rekonstrukci, Vlastnictví:Osobní, Podlaží:1. podlaží z celkem 5, Užitná plocha:44m2, Plocha podlahová:44m2]\n",
       "7  [Celková cena:7 511 000 Kč za nemovitost, + provize RK, včetně právního servisu, Poznámka k ceně:+ provize RK, ID zakázky:202009Graf, Aktualizace:14.02.2021, Stavba:Cihlová, Stav objektu:Po rekonstrukci, Vlastnictví:Osobní, Umístění objektu:Centrum obce, Podlaží:4. podlaží z celkem 5 včetně 1 podzemního, Užitná plocha:58m2, Datum nastěhování:Ihned, Rok kolaudace:2021]\n",
       "8                                                                                                                          [Celková cena:1 850 000 Kč za nemovitost, Náklady na bydlení:3000,-Kč, Aktualizace:04.02.2021, ID:695644, Stavba:Panelová, Stav objektu:Před rekonstrukcí, Vlastnictví:Osobní, Umístění objektu:Klidná část obce, Podlaží:10. podlaží, Užitná plocha:33m2]\n",
       "9                                                                                                                                           [Celková cena:7 490 000 Kč za nemovitost, včetně provize, ID zakázky:N05057, Aktualizace:26.10.2020, Stavba:Cihlová, Stav objektu:Velmi dobrý, Vlastnictví:Osobní, Podlaží:3. podlaží z celkem 4 včetně 1 podzemního, Užitná plocha:39m2]"
      ]
     },
     "execution_count": 160,
     "metadata": {},
     "output_type": "execute_result"
    }
   ],
   "source": [
    "text_df_cleaned_flat_param1_pd "
   ]
  },
  {
   "cell_type": "code",
   "execution_count": null,
   "id": "integrated-fifth",
   "metadata": {},
   "outputs": [],
   "source": []
  },
  {
   "cell_type": "code",
   "execution_count": 132,
   "id": "coral-fiction",
   "metadata": {},
   "outputs": [],
   "source": [
    "import pandas as pd\n",
    "def processRecord2(file):\n",
    "    \n",
    "    #import lxml.html.usedoctest\n",
    "    #page = urlopen(url)\n",
    "    #root = lxml.html.fromstring(tag_soup)\n",
    "    soup = BeautifulSoup(file, \"html.parser\")\n",
    "    #body = fromstring(tag_soup).find('.//body')\n",
    "    #rtnVal = soup.prettify()\n",
    "    #print (list(soup.children))\n",
    "    classes = []\n",
    "\n",
    "    for element in soup.find_all('ul', class_='params2'):\n",
    "        for il in element.find_all('li'):\n",
    "            text = il.get_text(strip=True).replace(u'\\xa0', u' ')\n",
    "            #text2 = il2.get_text(strip=True).replace(u'\\xa0', u' ')\n",
    "            #print ('text1 is :',text1)\n",
    "            #print ('text2 is :',text2)\n",
    "            classes.append(text)\n",
    "            #classes2.append(text2)\n",
    "    #df = pd.DataFrame([classes1, classes1])\n",
    "    return classes"
   ]
  },
  {
   "cell_type": "code",
   "execution_count": 133,
   "id": "exposed-collins",
   "metadata": {},
   "outputs": [],
   "source": [
    "convertUDF2 = lambda z: processRecord2(z)"
   ]
  },
  {
   "cell_type": "code",
   "execution_count": 134,
   "id": "permanent-vessel",
   "metadata": {},
   "outputs": [],
   "source": [
    "text_df_cleaned_para2=rdd_df.withColumn('cleaned2', udf(convertUDF2, StringType())('val'))"
   ]
  },
  {
   "cell_type": "code",
   "execution_count": 135,
   "id": "quality-creativity",
   "metadata": {},
   "outputs": [],
   "source": [
    "text_df_cleaned_flat_para2 = text_df_cleaned_para2.select(\"cleaned2\").rdd.flatMap(lambda x: x)"
   ]
  },
  {
   "cell_type": "code",
   "execution_count": 136,
   "id": "heard-annual",
   "metadata": {},
   "outputs": [],
   "source": [
    "from pyspark.sql import Row\n",
    "\n",
    "row = Row(\"cleanedParams2\") \n",
    "\n",
    "text_df_cleaned_flat_para2= text_df_cleaned_flat_para2.map(row).toDF()"
   ]
  },
  {
   "cell_type": "code",
   "execution_count": 137,
   "id": "finite-surname",
   "metadata": {},
   "outputs": [],
   "source": [
    "pd.set_option('display.max_colwidth', None)"
   ]
  },
  {
   "cell_type": "code",
   "execution_count": 138,
   "id": "pediatric-heading",
   "metadata": {},
   "outputs": [],
   "source": [
    "text_df_cleaned_flat_para2_pd = text_df_cleaned_flat_para2.select('cleanedParams2').toPandas()"
   ]
  },
  {
   "cell_type": "code",
   "execution_count": 139,
   "id": "wrapped-shadow",
   "metadata": {},
   "outputs": [
    {
     "data": {
      "text/html": [
       "<div>\n",
       "<style scoped>\n",
       "    .dataframe tbody tr th:only-of-type {\n",
       "        vertical-align: middle;\n",
       "    }\n",
       "\n",
       "    .dataframe tbody tr th {\n",
       "        vertical-align: top;\n",
       "    }\n",
       "\n",
       "    .dataframe thead th {\n",
       "        text-align: right;\n",
       "    }\n",
       "</style>\n",
       "<table border=\"1\" class=\"dataframe\">\n",
       "  <thead>\n",
       "    <tr style=\"text-align: right;\">\n",
       "      <th></th>\n",
       "      <th>cleanedParams2</th>\n",
       "    </tr>\n",
       "  </thead>\n",
       "  <tbody>\n",
       "    <tr>\n",
       "      <th>0</th>\n",
       "      <td>[Podlaží:2. podlaží, Užitná plocha:136m2, Plocha podlahová:136m2, Topení:Lokální plynové, Energetická náročnost budovy:Třída G - Mimořádně nehospodárná č. 78/2013 Sb. podle vyhlášky]</td>\n",
       "    </tr>\n",
       "    <tr>\n",
       "      <th>1</th>\n",
       "      <td>[Parkování:1, Voda:Dálkový vodovod, Topení:Lokální plynové, Odpad:Veřejná kanalizace, Telekomunikace:Internet, Elektřina:230V, Doprava:MHD, Autobus, Energetická náročnost budovy:Třída G - Mimořádně nehospodárná č. 148/2007 Sb. podle vyhlášky, Vybavení:Částečně, Výtah:]</td>\n",
       "    </tr>\n",
       "    <tr>\n",
       "      <th>2</th>\n",
       "      <td>[Voda:Dálkový vodovod, Odpad:Veřejná kanalizace, Doprava:Silnice, MHD, Autobus, Komunikace:Asfaltová, Energetická náročnost budovy:Třída G - Mimořádně nehospodárná, Bezbariérový:, Vybavení:, Výtah:, Typ bytu:Mezonet]</td>\n",
       "    </tr>\n",
       "    <tr>\n",
       "      <th>3</th>\n",
       "      <td>[Balkón:2m2, Sklep:2m2, Topení:Ústřední dálkové, Plyn:Plynovod, Telekomunikace:Telefon, Internet, Kabelová televize, Elektřina:230V, Doprava:Silnice, MHD, Energetická náročnost budovy:Třída G - Mimořádně nehospodárná č. 78/2013 Sb. podle vyhlášky, Vybavení:, Výtah:]</td>\n",
       "    </tr>\n",
       "    <tr>\n",
       "      <th>4</th>\n",
       "      <td>[Balkón:4m2, Sklep:, Garáž:1, Topení:Ústřední dálkové, Odpad:Veřejná kanalizace, Telekomunikace:Kabelová televize, Elektřina:230V, Doprava:MHD, Komunikace:Asfaltová, Energetická náročnost budovy:Třída B - Velmi úsporná č. 78/2013 Sb. podle vyhlášky, Vybavení:, Výtah:]</td>\n",
       "    </tr>\n",
       "    <tr>\n",
       "      <th>5</th>\n",
       "      <td>[Plocha podlahová:66m2, Parkování:2, Rok kolaudace:2020, Voda:Dálkový vodovod, Odpad:Jímka, Telekomunikace:Internet, Doprava:Silnice, Autobus, Komunikace:Dlážděná, Energetická náročnost budovy:Třída B - Velmi úsporná]</td>\n",
       "    </tr>\n",
       "    <tr>\n",
       "      <th>6</th>\n",
       "      <td>[Sklep:2m2, Voda:Dálkový vodovod, Topení:Ústřední dálkové, Odpad:Veřejná kanalizace, Telekomunikace:Kabelové rozvody, Elektřina:230V, 400V, Doprava:Vlak, Silnice, MHD, Autobus, Komunikace:Asfaltová, Bezbariérový:]</td>\n",
       "    </tr>\n",
       "    <tr>\n",
       "      <th>7</th>\n",
       "      <td>[Rok rekonstrukce:2020, Voda:Dálkový vodovod, Topení:Ústřední dálkové, Odpad:Veřejná kanalizace, Telekomunikace:Telefon, Internet, Elektřina:230V, Doprava:Vlak, Dálnice, Silnice, MHD, Autobus, Komunikace:Asfaltová, Energetická náročnost budovy:Třída A - Mimořádně úsporná č. 78/2013 Sb. podle vyhlášky, Bezbariérový:, Výtah:, Typ bytu:Mezonet]</td>\n",
       "    </tr>\n",
       "    <tr>\n",
       "      <th>8</th>\n",
       "      <td>[Sklep:3m2, Voda:Dálkový vodovod, Topení:Jiné, Odpad:Veřejná kanalizace, Telekomunikace:Telefon, Internet, Kabelová televize, Elektřina:230V, Doprava:MHD, Komunikace:Asfaltová, Výtah:]</td>\n",
       "    </tr>\n",
       "    <tr>\n",
       "      <th>9</th>\n",
       "      <td>[Plocha podlahová:39m2, Sklep:, Datum nastěhování:Ihned, Voda:Dálkový vodovod, Plyn:Plynovod, Energetická náročnost budovy:Třída D - Méně úsporná č. 78/2013 Sb. podle vyhlášky, Vybavení:, Výtah:]</td>\n",
       "    </tr>\n",
       "  </tbody>\n",
       "</table>\n",
       "</div>"
      ],
      "text/plain": [
       "                                                                                                                                                                                                                                                                                                                                            cleanedParams2\n",
       "0                                                                                                                                                                   [Podlaží:2. podlaží, Užitná plocha:136m2, Plocha podlahová:136m2, Topení:Lokální plynové, Energetická náročnost budovy:Třída G - Mimořádně nehospodárná č. 78/2013 Sb. podle vyhlášky]\n",
       "1                                                                            [Parkování:1, Voda:Dálkový vodovod, Topení:Lokální plynové, Odpad:Veřejná kanalizace, Telekomunikace:Internet, Elektřina:230V, Doprava:MHD, Autobus, Energetická náročnost budovy:Třída G - Mimořádně nehospodárná č. 148/2007 Sb. podle vyhlášky, Vybavení:Částečně, Výtah:]\n",
       "2                                                                                                                                 [Voda:Dálkový vodovod, Odpad:Veřejná kanalizace, Doprava:Silnice, MHD, Autobus, Komunikace:Asfaltová, Energetická náročnost budovy:Třída G - Mimořádně nehospodárná, Bezbariérový:, Vybavení:, Výtah:, Typ bytu:Mezonet]\n",
       "3                                                                               [Balkón:2m2, Sklep:2m2, Topení:Ústřední dálkové, Plyn:Plynovod, Telekomunikace:Telefon, Internet, Kabelová televize, Elektřina:230V, Doprava:Silnice, MHD, Energetická náročnost budovy:Třída G - Mimořádně nehospodárná č. 78/2013 Sb. podle vyhlášky, Vybavení:, Výtah:]\n",
       "4                                                                             [Balkón:4m2, Sklep:, Garáž:1, Topení:Ústřední dálkové, Odpad:Veřejná kanalizace, Telekomunikace:Kabelová televize, Elektřina:230V, Doprava:MHD, Komunikace:Asfaltová, Energetická náročnost budovy:Třída B - Velmi úsporná č. 78/2013 Sb. podle vyhlášky, Vybavení:, Výtah:]\n",
       "5                                                                                                                                [Plocha podlahová:66m2, Parkování:2, Rok kolaudace:2020, Voda:Dálkový vodovod, Odpad:Jímka, Telekomunikace:Internet, Doprava:Silnice, Autobus, Komunikace:Dlážděná, Energetická náročnost budovy:Třída B - Velmi úsporná]\n",
       "6                                                                                                                                    [Sklep:2m2, Voda:Dálkový vodovod, Topení:Ústřední dálkové, Odpad:Veřejná kanalizace, Telekomunikace:Kabelové rozvody, Elektřina:230V, 400V, Doprava:Vlak, Silnice, MHD, Autobus, Komunikace:Asfaltová, Bezbariérový:]\n",
       "7  [Rok rekonstrukce:2020, Voda:Dálkový vodovod, Topení:Ústřední dálkové, Odpad:Veřejná kanalizace, Telekomunikace:Telefon, Internet, Elektřina:230V, Doprava:Vlak, Dálnice, Silnice, MHD, Autobus, Komunikace:Asfaltová, Energetická náročnost budovy:Třída A - Mimořádně úsporná č. 78/2013 Sb. podle vyhlášky, Bezbariérový:, Výtah:, Typ bytu:Mezonet]\n",
       "8                                                                                                                                                                 [Sklep:3m2, Voda:Dálkový vodovod, Topení:Jiné, Odpad:Veřejná kanalizace, Telekomunikace:Telefon, Internet, Kabelová televize, Elektřina:230V, Doprava:MHD, Komunikace:Asfaltová, Výtah:]\n",
       "9                                                                                                                                                      [Plocha podlahová:39m2, Sklep:, Datum nastěhování:Ihned, Voda:Dálkový vodovod, Plyn:Plynovod, Energetická náročnost budovy:Třída D - Méně úsporná č. 78/2013 Sb. podle vyhlášky, Vybavení:, Výtah:]"
      ]
     },
     "execution_count": 139,
     "metadata": {},
     "output_type": "execute_result"
    }
   ],
   "source": [
    "text_df_cleaned_flat_para2_pd"
   ]
  },
  {
   "cell_type": "code",
   "execution_count": 140,
   "id": "dying-phoenix",
   "metadata": {},
   "outputs": [],
   "source": [
    "df_concat_cost_address_params = pd.concat([df_concat_cost_address,text_df_cleaned_flat_param1_pd,text_df_cleaned_flat_para2_pd ], axis=1)"
   ]
  },
  {
   "cell_type": "code",
   "execution_count": 141,
   "id": "thermal-cause",
   "metadata": {},
   "outputs": [
    {
     "data": {
      "text/html": [
       "<div>\n",
       "<style scoped>\n",
       "    .dataframe tbody tr th:only-of-type {\n",
       "        vertical-align: middle;\n",
       "    }\n",
       "\n",
       "    .dataframe tbody tr th {\n",
       "        vertical-align: top;\n",
       "    }\n",
       "\n",
       "    .dataframe thead th {\n",
       "        text-align: right;\n",
       "    }\n",
       "</style>\n",
       "<table border=\"1\" class=\"dataframe\">\n",
       "  <thead>\n",
       "    <tr style=\"text-align: right;\">\n",
       "      <th></th>\n",
       "      <th>cost</th>\n",
       "      <th>address</th>\n",
       "      <th>cleanedParams1</th>\n",
       "      <th>cleanedParams2</th>\n",
       "    </tr>\n",
       "  </thead>\n",
       "  <tbody>\n",
       "    <tr>\n",
       "      <th>0</th>\n",
       "      <td>21,500,000 Kč</td>\n",
       "      <td>Masná, Praha 1 - Staré Město</td>\n",
       "      <td>[Celková cena:21 500 000 Kč za nemovitost, včetně provize, ID zakázky:32863, Aktualizace:16.02.2021, Stavba:Cihlová, Stav objektu:Po rekonstrukci, Vlastnictví:Osobní]</td>\n",
       "      <td>[Podlaží:2. podlaží, Užitná plocha:136m2, Plocha podlahová:136m2, Topení:Lokální plynové, Energetická náročnost budovy:Třída G - Mimořádně nehospodárná č. 78/2013 Sb. podle vyhlášky]</td>\n",
       "    </tr>\n",
       "    <tr>\n",
       "      <th>1</th>\n",
       "      <td>5,200,000 Kč</td>\n",
       "      <td>Velvarská, Horoměřice</td>\n",
       "      <td>[Celková cena:5 200 000 Kč za nemovitost, včetně provize, ID zakázky:729030, Aktualizace:08.02.2021, Stavba:Cihlová, Stav objektu:Velmi dobrý, Vlastnictví:Osobní, Umístění objektu:Klidná část obce, Podlaží:2. podlaží z celkem 3, Užitná plocha:78m2, Plocha podlahová:78m2]</td>\n",
       "      <td>[Parkování:1, Voda:Dálkový vodovod, Topení:Lokální plynové, Odpad:Veřejná kanalizace, Telekomunikace:Internet, Elektřina:230V, Doprava:MHD, Autobus, Energetická náročnost budovy:Třída G - Mimořádně nehospodárná č. 148/2007 Sb. podle vyhlášky, Vybavení:Částečně, Výtah:]</td>\n",
       "    </tr>\n",
       "    <tr>\n",
       "      <th>2</th>\n",
       "      <td>10,854,900 Kč</td>\n",
       "      <td>Libušina, Karlovy Vary</td>\n",
       "      <td>[Celková cena:10 854 900 Kč (420 000 EUR) za nemovitost, včetně provize, Aktualizace:26.01.2021, ID:261724, Stavba:Smíšená, Stav objektu:Velmi dobrý, Vlastnictví:Osobní, Podlaží:2. podlaží, Užitná plocha:132m2, Balkón:, Parkování:]</td>\n",
       "      <td>[Voda:Dálkový vodovod, Odpad:Veřejná kanalizace, Doprava:Silnice, MHD, Autobus, Komunikace:Asfaltová, Energetická náročnost budovy:Třída G - Mimořádně nehospodárná, Bezbariérový:, Vybavení:, Výtah:, Typ bytu:Mezonet]</td>\n",
       "    </tr>\n",
       "    <tr>\n",
       "      <th>3</th>\n",
       "      <td>5,565,000 Kč</td>\n",
       "      <td>Pod Lipami, Praha 3 - Žižkov</td>\n",
       "      <td>[Celková cena:5 565 000 Kč za nemovitost, včetně provize, Poznámka k ceně:+ poplatky 3.500 ,- Kč, ID zakázky:N03409, Aktualizace:18.02.2021, Stavba:Cihlová, Stav objektu:Velmi dobrý, Vlastnictví:Osobní, Umístění objektu:Klidná část obce, Podlaží:4. podlaží z celkem 6, Užitná plocha:55m2, Plocha podlahová:55m2]</td>\n",
       "      <td>[Balkón:2m2, Sklep:2m2, Topení:Ústřední dálkové, Plyn:Plynovod, Telekomunikace:Telefon, Internet, Kabelová televize, Elektřina:230V, Doprava:Silnice, MHD, Energetická náročnost budovy:Třída G - Mimořádně nehospodárná č. 78/2013 Sb. podle vyhlášky, Vybavení:, Výtah:]</td>\n",
       "    </tr>\n",
       "    <tr>\n",
       "      <th>4</th>\n",
       "      <td>1,475,000 Kč</td>\n",
       "      <td>Drnovská, Praha 6 - Ruzyně</td>\n",
       "      <td>[Celková cena:1 475 000 Kč za nemovitost, včetně provize, Poznámka k ceně:včetně právního servisu a provize RK, ID zakázky:0253-NP01146, Aktualizace:11.02.2021, Anuita:4 Kč, Stavba:Cihlová, Stav objektu:Novostavba, Vlastnictví:Družstevní, Převod do OV:Ne, Umístění objektu:Centrum obce, Podlaží:4. podlaží z celkem 6, Užitná plocha:57m2, Plocha podlahová:57m2]</td>\n",
       "      <td>[Balkón:4m2, Sklep:, Garáž:1, Topení:Ústřední dálkové, Odpad:Veřejná kanalizace, Telekomunikace:Kabelová televize, Elektřina:230V, Doprava:MHD, Komunikace:Asfaltová, Energetická náročnost budovy:Třída B - Velmi úsporná č. 78/2013 Sb. podle vyhlášky, Vybavení:, Výtah:]</td>\n",
       "    </tr>\n",
       "    <tr>\n",
       "      <th>5</th>\n",
       "      <td>5,500,000 Kč</td>\n",
       "      <td>V Průhoně, Mukařov - Žernovka</td>\n",
       "      <td>[Celková cena:5 500 000 Kč za nemovitost, Poznámka k ceně:cena je včetně provize a služeb RK, ID zakázky:NPDO4772, Aktualizace:15.02.2021, Stavba:Cihlová, Stav objektu:Novostavba, Vlastnictví:Osobní, Umístění objektu:Klidná část obce, Podlaží:1. podlaží z celkem 2, Užitná plocha:66m2]</td>\n",
       "      <td>[Plocha podlahová:66m2, Parkování:2, Rok kolaudace:2020, Voda:Dálkový vodovod, Odpad:Jímka, Telekomunikace:Internet, Doprava:Silnice, Autobus, Komunikace:Dlážděná, Energetická náročnost budovy:Třída B - Velmi úsporná]</td>\n",
       "    </tr>\n",
       "    <tr>\n",
       "      <th>6</th>\n",
       "      <td>2,530,000 Kč</td>\n",
       "      <td>Mladoboleslavská, Mělník</td>\n",
       "      <td>[Celková cena:2 530 000 Kč za nemovitost, + provize RK, včetně právního servisu (k jednání), Poznámka k ceně:, 3500, ID zakázky:1579/1830, Aktualizace:15.02.2021, Stavba:Panelová, Stav objektu:Po rekonstrukci, Vlastnictví:Osobní, Podlaží:1. podlaží z celkem 5, Užitná plocha:44m2, Plocha podlahová:44m2]</td>\n",
       "      <td>[Sklep:2m2, Voda:Dálkový vodovod, Topení:Ústřední dálkové, Odpad:Veřejná kanalizace, Telekomunikace:Kabelové rozvody, Elektřina:230V, 400V, Doprava:Vlak, Silnice, MHD, Autobus, Komunikace:Asfaltová, Bezbariérový:]</td>\n",
       "    </tr>\n",
       "    <tr>\n",
       "      <th>7</th>\n",
       "      <td>7,511,000 Kč</td>\n",
       "      <td>Grafická, Praha 5 - Smíchov</td>\n",
       "      <td>[Celková cena:7 511 000 Kč za nemovitost, + provize RK, včetně právního servisu, Poznámka k ceně:+ provize RK, ID zakázky:202009Graf, Aktualizace:14.02.2021, Stavba:Cihlová, Stav objektu:Po rekonstrukci, Vlastnictví:Osobní, Umístění objektu:Centrum obce, Podlaží:4. podlaží z celkem 5 včetně 1 podzemního, Užitná plocha:58m2, Datum nastěhování:Ihned, Rok kolaudace:2021]</td>\n",
       "      <td>[Rok rekonstrukce:2020, Voda:Dálkový vodovod, Topení:Ústřední dálkové, Odpad:Veřejná kanalizace, Telekomunikace:Telefon, Internet, Elektřina:230V, Doprava:Vlak, Dálnice, Silnice, MHD, Autobus, Komunikace:Asfaltová, Energetická náročnost budovy:Třída A - Mimořádně úsporná č. 78/2013 Sb. podle vyhlášky, Bezbariérový:, Výtah:, Typ bytu:Mezonet]</td>\n",
       "    </tr>\n",
       "    <tr>\n",
       "      <th>8</th>\n",
       "      <td>1,850,000 Kč</td>\n",
       "      <td>Sametová, Liberec - Liberec VI-Rochlice</td>\n",
       "      <td>[Celková cena:1 850 000 Kč za nemovitost, Náklady na bydlení:3000,-Kč, Aktualizace:04.02.2021, ID:695644, Stavba:Panelová, Stav objektu:Před rekonstrukcí, Vlastnictví:Osobní, Umístění objektu:Klidná část obce, Podlaží:10. podlaží, Užitná plocha:33m2]</td>\n",
       "      <td>[Sklep:3m2, Voda:Dálkový vodovod, Topení:Jiné, Odpad:Veřejná kanalizace, Telekomunikace:Telefon, Internet, Kabelová televize, Elektřina:230V, Doprava:MHD, Komunikace:Asfaltová, Výtah:]</td>\n",
       "    </tr>\n",
       "    <tr>\n",
       "      <th>9</th>\n",
       "      <td>7,490,000 Kč</td>\n",
       "      <td>Jakubská, Praha 1 - Staré Město</td>\n",
       "      <td>[Celková cena:7 490 000 Kč za nemovitost, včetně provize, ID zakázky:N05057, Aktualizace:26.10.2020, Stavba:Cihlová, Stav objektu:Velmi dobrý, Vlastnictví:Osobní, Podlaží:3. podlaží z celkem 4 včetně 1 podzemního, Užitná plocha:39m2]</td>\n",
       "      <td>[Plocha podlahová:39m2, Sklep:, Datum nastěhování:Ihned, Voda:Dálkový vodovod, Plyn:Plynovod, Energetická náročnost budovy:Třída D - Méně úsporná č. 78/2013 Sb. podle vyhlášky, Vybavení:, Výtah:]</td>\n",
       "    </tr>\n",
       "  </tbody>\n",
       "</table>\n",
       "</div>"
      ],
      "text/plain": [
       "            cost                                  address  \\\n",
       "0  21,500,000 Kč             Masná, Praha 1 - Staré Město   \n",
       "1   5,200,000 Kč                    Velvarská, Horoměřice   \n",
       "2  10,854,900 Kč                   Libušina, Karlovy Vary   \n",
       "3   5,565,000 Kč             Pod Lipami, Praha 3 - Žižkov   \n",
       "4   1,475,000 Kč               Drnovská, Praha 6 - Ruzyně   \n",
       "5   5,500,000 Kč            V Průhoně, Mukařov - Žernovka   \n",
       "6   2,530,000 Kč                 Mladoboleslavská, Mělník   \n",
       "7   7,511,000 Kč              Grafická, Praha 5 - Smíchov   \n",
       "8   1,850,000 Kč  Sametová, Liberec - Liberec VI-Rochlice   \n",
       "9   7,490,000 Kč          Jakubská, Praha 1 - Staré Město   \n",
       "\n",
       "                                                                                                                                                                                                                                                                                                                                                                       cleanedParams1  \\\n",
       "0                                                                                                                                                                                                              [Celková cena:21 500 000 Kč za nemovitost, včetně provize, ID zakázky:32863, Aktualizace:16.02.2021, Stavba:Cihlová, Stav objektu:Po rekonstrukci, Vlastnictví:Osobní]   \n",
       "1                                                                                                     [Celková cena:5 200 000 Kč za nemovitost, včetně provize, ID zakázky:729030, Aktualizace:08.02.2021, Stavba:Cihlová, Stav objektu:Velmi dobrý, Vlastnictví:Osobní, Umístění objektu:Klidná část obce, Podlaží:2. podlaží z celkem 3, Užitná plocha:78m2, Plocha podlahová:78m2]   \n",
       "2                                                                                                                                             [Celková cena:10 854 900 Kč (420 000 EUR) za nemovitost, včetně provize, Aktualizace:26.01.2021, ID:261724, Stavba:Smíšená, Stav objektu:Velmi dobrý, Vlastnictví:Osobní, Podlaží:2. podlaží, Užitná plocha:132m2, Balkón:, Parkování:]   \n",
       "3                                                             [Celková cena:5 565 000 Kč za nemovitost, včetně provize, Poznámka k ceně:+ poplatky 3.500 ,- Kč, ID zakázky:N03409, Aktualizace:18.02.2021, Stavba:Cihlová, Stav objektu:Velmi dobrý, Vlastnictví:Osobní, Umístění objektu:Klidná část obce, Podlaží:4. podlaží z celkem 6, Užitná plocha:55m2, Plocha podlahová:55m2]   \n",
       "4            [Celková cena:1 475 000 Kč za nemovitost, včetně provize, Poznámka k ceně:včetně právního servisu a provize RK, ID zakázky:0253-NP01146, Aktualizace:11.02.2021, Anuita:4 Kč, Stavba:Cihlová, Stav objektu:Novostavba, Vlastnictví:Družstevní, Převod do OV:Ne, Umístění objektu:Centrum obce, Podlaží:4. podlaží z celkem 6, Užitná plocha:57m2, Plocha podlahová:57m2]   \n",
       "5                                                                                       [Celková cena:5 500 000 Kč za nemovitost, Poznámka k ceně:cena je včetně provize a služeb RK, ID zakázky:NPDO4772, Aktualizace:15.02.2021, Stavba:Cihlová, Stav objektu:Novostavba, Vlastnictví:Osobní, Umístění objektu:Klidná část obce, Podlaží:1. podlaží z celkem 2, Užitná plocha:66m2]   \n",
       "6                                                                     [Celková cena:2 530 000 Kč za nemovitost, + provize RK, včetně právního servisu (k jednání), Poznámka k ceně:, 3500, ID zakázky:1579/1830, Aktualizace:15.02.2021, Stavba:Panelová, Stav objektu:Po rekonstrukci, Vlastnictví:Osobní, Podlaží:1. podlaží z celkem 5, Užitná plocha:44m2, Plocha podlahová:44m2]   \n",
       "7  [Celková cena:7 511 000 Kč za nemovitost, + provize RK, včetně právního servisu, Poznámka k ceně:+ provize RK, ID zakázky:202009Graf, Aktualizace:14.02.2021, Stavba:Cihlová, Stav objektu:Po rekonstrukci, Vlastnictví:Osobní, Umístění objektu:Centrum obce, Podlaží:4. podlaží z celkem 5 včetně 1 podzemního, Užitná plocha:58m2, Datum nastěhování:Ihned, Rok kolaudace:2021]   \n",
       "8                                                                                                                          [Celková cena:1 850 000 Kč za nemovitost, Náklady na bydlení:3000,-Kč, Aktualizace:04.02.2021, ID:695644, Stavba:Panelová, Stav objektu:Před rekonstrukcí, Vlastnictví:Osobní, Umístění objektu:Klidná část obce, Podlaží:10. podlaží, Užitná plocha:33m2]   \n",
       "9                                                                                                                                           [Celková cena:7 490 000 Kč za nemovitost, včetně provize, ID zakázky:N05057, Aktualizace:26.10.2020, Stavba:Cihlová, Stav objektu:Velmi dobrý, Vlastnictví:Osobní, Podlaží:3. podlaží z celkem 4 včetně 1 podzemního, Užitná plocha:39m2]   \n",
       "\n",
       "                                                                                                                                                                                                                                                                                                                                            cleanedParams2  \n",
       "0                                                                                                                                                                   [Podlaží:2. podlaží, Užitná plocha:136m2, Plocha podlahová:136m2, Topení:Lokální plynové, Energetická náročnost budovy:Třída G - Mimořádně nehospodárná č. 78/2013 Sb. podle vyhlášky]  \n",
       "1                                                                            [Parkování:1, Voda:Dálkový vodovod, Topení:Lokální plynové, Odpad:Veřejná kanalizace, Telekomunikace:Internet, Elektřina:230V, Doprava:MHD, Autobus, Energetická náročnost budovy:Třída G - Mimořádně nehospodárná č. 148/2007 Sb. podle vyhlášky, Vybavení:Částečně, Výtah:]  \n",
       "2                                                                                                                                 [Voda:Dálkový vodovod, Odpad:Veřejná kanalizace, Doprava:Silnice, MHD, Autobus, Komunikace:Asfaltová, Energetická náročnost budovy:Třída G - Mimořádně nehospodárná, Bezbariérový:, Vybavení:, Výtah:, Typ bytu:Mezonet]  \n",
       "3                                                                               [Balkón:2m2, Sklep:2m2, Topení:Ústřední dálkové, Plyn:Plynovod, Telekomunikace:Telefon, Internet, Kabelová televize, Elektřina:230V, Doprava:Silnice, MHD, Energetická náročnost budovy:Třída G - Mimořádně nehospodárná č. 78/2013 Sb. podle vyhlášky, Vybavení:, Výtah:]  \n",
       "4                                                                             [Balkón:4m2, Sklep:, Garáž:1, Topení:Ústřední dálkové, Odpad:Veřejná kanalizace, Telekomunikace:Kabelová televize, Elektřina:230V, Doprava:MHD, Komunikace:Asfaltová, Energetická náročnost budovy:Třída B - Velmi úsporná č. 78/2013 Sb. podle vyhlášky, Vybavení:, Výtah:]  \n",
       "5                                                                                                                                [Plocha podlahová:66m2, Parkování:2, Rok kolaudace:2020, Voda:Dálkový vodovod, Odpad:Jímka, Telekomunikace:Internet, Doprava:Silnice, Autobus, Komunikace:Dlážděná, Energetická náročnost budovy:Třída B - Velmi úsporná]  \n",
       "6                                                                                                                                    [Sklep:2m2, Voda:Dálkový vodovod, Topení:Ústřední dálkové, Odpad:Veřejná kanalizace, Telekomunikace:Kabelové rozvody, Elektřina:230V, 400V, Doprava:Vlak, Silnice, MHD, Autobus, Komunikace:Asfaltová, Bezbariérový:]  \n",
       "7  [Rok rekonstrukce:2020, Voda:Dálkový vodovod, Topení:Ústřední dálkové, Odpad:Veřejná kanalizace, Telekomunikace:Telefon, Internet, Elektřina:230V, Doprava:Vlak, Dálnice, Silnice, MHD, Autobus, Komunikace:Asfaltová, Energetická náročnost budovy:Třída A - Mimořádně úsporná č. 78/2013 Sb. podle vyhlášky, Bezbariérový:, Výtah:, Typ bytu:Mezonet]  \n",
       "8                                                                                                                                                                 [Sklep:3m2, Voda:Dálkový vodovod, Topení:Jiné, Odpad:Veřejná kanalizace, Telekomunikace:Telefon, Internet, Kabelová televize, Elektřina:230V, Doprava:MHD, Komunikace:Asfaltová, Výtah:]  \n",
       "9                                                                                                                                                      [Plocha podlahová:39m2, Sklep:, Datum nastěhování:Ihned, Voda:Dálkový vodovod, Plyn:Plynovod, Energetická náročnost budovy:Třída D - Méně úsporná č. 78/2013 Sb. podle vyhlášky, Vybavení:, Výtah:]  "
      ]
     },
     "execution_count": 141,
     "metadata": {},
     "output_type": "execute_result"
    }
   ],
   "source": [
    "df_concat_cost_address_params"
   ]
  },
  {
   "cell_type": "code",
   "execution_count": 142,
   "id": "accepting-automation",
   "metadata": {},
   "outputs": [],
   "source": [
    "df_concat_cost_address_params.to_csv(\"cleaned_data.csv\", sep=',')"
   ]
  },
  {
   "cell_type": "code",
   "execution_count": null,
   "id": "sexual-dependence",
   "metadata": {},
   "outputs": [],
   "source": []
  },
  {
   "cell_type": "code",
   "execution_count": null,
   "id": "another-mathematics",
   "metadata": {},
   "outputs": [],
   "source": [
    "\n"
   ]
  }
 ],
 "metadata": {
  "kernelspec": {
   "display_name": "Python 3",
   "language": "python",
   "name": "python3"
  },
  "language_info": {
   "codemirror_mode": {
    "name": "ipython",
    "version": 3
   },
   "file_extension": ".py",
   "mimetype": "text/x-python",
   "name": "python",
   "nbconvert_exporter": "python",
   "pygments_lexer": "ipython3",
   "version": "3.6.9"
  }
 },
 "nbformat": 4,
 "nbformat_minor": 5
}
