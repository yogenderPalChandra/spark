{
 "cells": [
  {
   "cell_type": "code",
   "execution_count": 1,
   "id": "prerequisite-asian",
   "metadata": {},
   "outputs": [
    {
     "name": "stderr",
     "output_type": "stream",
     "text": [
      "/home/yogender/.local/lib/python3.6/site-packages/pyspark/context.py:238: FutureWarning: Python 3.6 support is deprecated in Spark 3.2.\n",
      "  FutureWarning\n"
     ]
    }
   ],
   "source": [
    "from pyspark.sql import SQLContext\n",
    "from pyspark import SparkContext\n",
    "from pyspark.sql.types import *\n",
    "\n",
    "from sparknlp.base import *\n",
    "from sparknlp.pretrained import PretrainedPipeline\n",
    "import sparknlp\n",
    "from pyspark.sql import SparkSession\n",
    "\n",
    "\n",
    "from sparknlp.annotator import *\n",
    "from pyspark.ml import Pipeline\n",
    "#sc = SparkContext()\n",
    "import sparknlp\n",
    "spark = sparknlp.start()"
   ]
  },
  {
   "cell_type": "code",
   "execution_count": 2,
   "id": "induced-karen",
   "metadata": {},
   "outputs": [
    {
     "name": "stderr",
     "output_type": "stream",
     "text": [
      "/home/yogender/.local/lib/python3.6/site-packages/pyspark/sql/context.py:79: FutureWarning: Deprecated in 3.0.0. Use SparkSession.builder.getOrCreate() instead.\n",
      "  FutureWarning\n"
     ]
    }
   ],
   "source": [
    "sqlContext = SQLContext(spark)"
   ]
  },
  {
   "cell_type": "code",
   "execution_count": 3,
   "id": "unsigned-aircraft",
   "metadata": {},
   "outputs": [],
   "source": [
    "rdd_l = spark.sparkContext.wholeTextFiles(\"./*.html\")\n"
   ]
  },
  {
   "cell_type": "code",
   "execution_count": 4,
   "id": "instrumental-exhibition",
   "metadata": {},
   "outputs": [],
   "source": [
    "df = rdd_l.toDF(schema=[\"filename\", \"text\"]).select(\"text\")"
   ]
  },
  {
   "cell_type": "code",
   "execution_count": 20,
   "id": "joined-arbor",
   "metadata": {},
   "outputs": [
    {
     "name": "stdout",
     "output_type": "stream",
     "text": [
      "+--------------------+\n",
      "|                text|\n",
      "+--------------------+\n",
      "|<!DOCTYPE html><h...|\n",
      "|<!DOCTYPE html><h...|\n",
      "|<!DOCTYPE html><h...|\n",
      "|<!DOCTYPE html><h...|\n",
      "|<!DOCTYPE html><h...|\n",
      "|<!DOCTYPE html><h...|\n",
      "|<!DOCTYPE html><h...|\n",
      "|<!DOCTYPE html><h...|\n",
      "|<!DOCTYPE html><h...|\n",
      "|<!DOCTYPE html><h...|\n",
      "+--------------------+\n",
      "\n"
     ]
    }
   ],
   "source": [
    "df.show(10)"
   ]
  },
  {
   "cell_type": "code",
   "execution_count": null,
   "id": "bored-minnesota",
   "metadata": {},
   "outputs": [],
   "source": []
  },
  {
   "cell_type": "code",
   "execution_count": null,
   "id": "secret-presence",
   "metadata": {},
   "outputs": [],
   "source": []
  },
  {
   "cell_type": "code",
   "execution_count": null,
   "id": "differential-barbados",
   "metadata": {},
   "outputs": [],
   "source": []
  },
  {
   "cell_type": "code",
   "execution_count": null,
   "id": "latin-hometown",
   "metadata": {},
   "outputs": [],
   "source": []
  },
  {
   "cell_type": "code",
   "execution_count": null,
   "id": "mexican-filling",
   "metadata": {},
   "outputs": [],
   "source": []
  },
  {
   "cell_type": "code",
   "execution_count": null,
   "id": "typical-actress",
   "metadata": {},
   "outputs": [],
   "source": []
  },
  {
   "cell_type": "code",
   "execution_count": null,
   "id": "distinct-explosion",
   "metadata": {},
   "outputs": [],
   "source": []
  },
  {
   "cell_type": "code",
   "execution_count": null,
   "id": "homeless-chapel",
   "metadata": {},
   "outputs": [],
   "source": []
  },
  {
   "cell_type": "code",
   "execution_count": 21,
   "id": "acoustic-composer",
   "metadata": {},
   "outputs": [],
   "source": [
    "rules = '''\n",
    "\n",
    "\\d+&\\w+;\\d+&\\w+;Kč* \n",
    "\n",
    "'''\n",
    "#\\S*\\d+\\S* Kč* \n",
    "with open('regex_rules.txt', 'w') as f:\n",
    "    \n",
    "    f.write(rules)"
   ]
  },
  {
   "cell_type": "code",
   "execution_count": 22,
   "id": "breeding-scene",
   "metadata": {},
   "outputs": [
    {
     "data": {
      "text/plain": [
       "{Param(parent='RegexMatcher_59c67a2f5d1e', name='lazyAnnotator', doc='Whether this AnnotatorModel acts as lazy in RecursivePipelines'): False,\n",
       " Param(parent='RegexMatcher_59c67a2f5d1e', name='strategy', doc='MATCH_FIRST|MATCH_ALL|MATCH_COMPLETE'): 'MATCH_ALL'}"
      ]
     },
     "execution_count": 22,
     "metadata": {},
     "output_type": "execute_result"
    }
   ],
   "source": [
    "RegexMatcher().extractParamMap()"
   ]
  },
  {
   "cell_type": "code",
   "execution_count": null,
   "id": "egyptian-friendly",
   "metadata": {},
   "outputs": [],
   "source": []
  },
  {
   "cell_type": "code",
   "execution_count": null,
   "id": "impossible-price",
   "metadata": {},
   "outputs": [],
   "source": []
  },
  {
   "cell_type": "code",
   "execution_count": null,
   "id": "revolutionary-trance",
   "metadata": {},
   "outputs": [],
   "source": []
  },
  {
   "cell_type": "code",
   "execution_count": 23,
   "id": "peripheral-conflict",
   "metadata": {},
   "outputs": [],
   "source": [
    "\n",
    "\n",
    "#match_df.select('regex_matches.result').take(3)"
   ]
  },
  {
   "cell_type": "code",
   "execution_count": 24,
   "id": "obvious-format",
   "metadata": {},
   "outputs": [
    {
     "name": "stdout",
     "output_type": "stream",
     "text": [
      "+----------------------+\n",
      "|                result|\n",
      "+----------------------+\n",
      "|[500&nbsp;000&nbsp;Kč]|\n",
      "|[200&nbsp;000&nbsp;Kč]|\n",
      "|[854&nbsp;900&nbsp;Kč]|\n",
      "|[565&nbsp;000&nbsp;Kč]|\n",
      "|[475&nbsp;000&nbsp;Kč]|\n",
      "|[500&nbsp;000&nbsp;Kč]|\n",
      "|[530&nbsp;000&nbsp;Kč]|\n",
      "|[511&nbsp;000&nbsp;Kč]|\n",
      "|[850&nbsp;000&nbsp;Kč]|\n",
      "|[490&nbsp;000&nbsp;Kč]|\n",
      "+----------------------+\n",
      "\n"
     ]
    }
   ],
   "source": [
    "\n",
    "\n",
    "\n",
    "\n",
    "documentAssembler = DocumentAssembler()\\\n",
    "    .setInputCol(\"text\")\\\n",
    "    .setOutputCol(\"assembled\")\n",
    "\n",
    "regex_matcher = RegexMatcher()\\\n",
    "    .setInputCols('assembled')\\\n",
    "    .setStrategy(\"MATCH_ALL\")\\\n",
    "    .setOutputCol(\"regex_matches\")\\\n",
    "    .setExternalRules(path='./regex_rules.txt', delimiter=',')\n",
    "\n",
    "nlpPipeline = Pipeline(stages=[\n",
    "    documentAssembler, \n",
    "    regex_matcher\n",
    " ])\n",
    "\n",
    "pipelineModel = nlpPipeline.fit(df)\n",
    "#df = pipelineModel.transform(df)\n",
    "#empty_df = spark.createDataFrame([['']]).toDF(\"text\")\n",
    "\n",
    "#pipelineModel = nlpPipeline.fit(empty_df)\n",
    "\n",
    "match_df = pipelineModel.transform(df)\n",
    "\n",
    "match_df.select('regex_matches.result').show(truncate=50)"
   ]
  },
  {
   "cell_type": "code",
   "execution_count": 25,
   "id": "adverse-withdrawal",
   "metadata": {},
   "outputs": [
    {
     "name": "stdout",
     "output_type": "stream",
     "text": [
      "+----------------------+\n",
      "|                result|\n",
      "+----------------------+\n",
      "|[500&nbsp;000&nbsp;Kč]|\n",
      "|[200&nbsp;000&nbsp;Kč]|\n",
      "|[854&nbsp;900&nbsp;Kč]|\n",
      "|[565&nbsp;000&nbsp;Kč]|\n",
      "|[475&nbsp;000&nbsp;Kč]|\n",
      "|[500&nbsp;000&nbsp;Kč]|\n",
      "|[530&nbsp;000&nbsp;Kč]|\n",
      "|[511&nbsp;000&nbsp;Kč]|\n",
      "|[850&nbsp;000&nbsp;Kč]|\n",
      "|[490&nbsp;000&nbsp;Kč]|\n",
      "+----------------------+\n",
      "\n"
     ]
    }
   ],
   "source": [
    "match_df.select('regex_matches.result').show(truncate=100)"
   ]
  },
  {
   "cell_type": "code",
   "execution_count": 26,
   "id": "fitted-frontier",
   "metadata": {},
   "outputs": [
    {
     "name": "stdout",
     "output_type": "stream",
     "text": [
      "+--------------------------------------------------+----------------------+\n",
      "|                                              text|  regex_matches.result|\n",
      "+--------------------------------------------------+----------------------+\n",
      "|<!DOCTYPE html><html lang=\"cs\" ng-app=\"sreality...|[500&nbsp;000&nbsp;Kč]|\n",
      "|<!DOCTYPE html><html lang=\"cs\" ng-app=\"sreality...|[200&nbsp;000&nbsp;Kč]|\n",
      "|<!DOCTYPE html><html lang=\"cs\" ng-app=\"sreality...|[854&nbsp;900&nbsp;Kč]|\n",
      "|<!DOCTYPE html><html lang=\"cs\" ng-app=\"sreality...|[565&nbsp;000&nbsp;Kč]|\n",
      "|<!DOCTYPE html><html lang=\"cs\" ng-app=\"sreality...|[475&nbsp;000&nbsp;Kč]|\n",
      "|<!DOCTYPE html><html lang=\"cs\" ng-app=\"sreality...|[500&nbsp;000&nbsp;Kč]|\n",
      "|<!DOCTYPE html><html lang=\"cs\" ng-app=\"sreality...|[530&nbsp;000&nbsp;Kč]|\n",
      "|<!DOCTYPE html><html lang=\"cs\" ng-app=\"sreality...|[511&nbsp;000&nbsp;Kč]|\n",
      "|<!DOCTYPE html><html lang=\"cs\" ng-app=\"sreality...|[850&nbsp;000&nbsp;Kč]|\n",
      "|<!DOCTYPE html><html lang=\"cs\" ng-app=\"sreality...|[490&nbsp;000&nbsp;Kč]|\n",
      "+--------------------------------------------------+----------------------+\n",
      "\n"
     ]
    }
   ],
   "source": [
    "match_df.select('text', 'regex_matches.result')\\\n",
    "    .toDF('text', 'regex_matches.result')\\\n",
    "    .show(truncate=50)"
   ]
  },
  {
   "cell_type": "code",
   "execution_count": 397,
   "id": "announced-budapest",
   "metadata": {},
   "outputs": [],
   "source": [
    "rules2 = '''\n",
    "\n",
    "\\w*tion\\-\\w*ext\\s+\\w*ng\\-\\w*binding\\\"\\>\\w*.........................\n",
    "\n",
    "\n",
    "'''\n",
    "#\\w*tion\\-\\w*ext\\s+\\w*ng\\-\\w*binding\\\"\\>\\w*\n",
    "#/<title>([^<]+)<\\/title>/\n",
    "#\\w*tion\\-\\w*ext\\s+\\w*ng\\-\\w*binding\\\"\\>\\w+|\\s.$\\<\\/\n",
    "#\\S*\\d+\\S* Kč*\n",
    "#\\d+&\\w+;\\d+&\\w+;Kč* \n",
    "with open('regex_rules2.txt', 'w') as f:\n",
    "    \n",
    "    f.write(rules2)"
   ]
  },
  {
   "cell_type": "code",
   "execution_count": 398,
   "id": "alive-hamilton",
   "metadata": {},
   "outputs": [],
   "source": [
    "RegexMatcher().extractParamMap()\n",
    "\n",
    "documentAssembler2 = DocumentAssembler()\\\n",
    "    .setInputCol(\"text\")\\\n",
    "    .setOutputCol(\"assembled\")\n",
    "\n",
    "regex_matcher2 = RegexMatcher()\\\n",
    "    .setInputCols('assembled')\\\n",
    "    .setStrategy(\"MATCH_ALL\")\\\n",
    "    .setOutputCol(\"regex_address\")\\\n",
    "    .setExternalRules(path='./regex_rules2.txt', delimiter=',')\n",
    "\n",
    "nlpPipeline2 = Pipeline(stages=[\n",
    "    documentAssembler2, \n",
    "    regex_matcher2\n",
    " ])"
   ]
  },
  {
   "cell_type": "code",
   "execution_count": 413,
   "id": "seeing-funds",
   "metadata": {
    "scrolled": false
   },
   "outputs": [
    {
     "name": "stdout",
     "output_type": "stream",
     "text": [
      "+------------------------------------------------------------+\n",
      "|                                                      result|\n",
      "+------------------------------------------------------------+\n",
      "|   [location-text ng-binding\">Masná, Praha 1 - Staré Město<]|\n",
      "|    [location-text ng-binding\">Velvarská, Horoměřice</span>]|\n",
      "|   [location-text ng-binding\">Libušina, Karlovy Vary</span>]|\n",
      "|    [location-text ng-binding\">Pod Lipami, Praha 3 - Žižkov]|\n",
      "|[location-text ng-binding\">Drnovská, Praha 6 - Ruzyně</span]|\n",
      "|      [location-text ng-binding\">V Průhoně, Mukařov - Žerno]|\n",
      "| [location-text ng-binding\">Mladoboleslavská, Mělník</span>]|\n",
      "|[location-text ng-binding\">Grafická, Praha 5 - Smíchov</spa]|\n",
      "|[location-text ng-binding\">Sametová, Liberec - Liberec VI-R]|\n",
      "|[location-text ng-binding\">Jakubská, Praha 1 - Staré Město<]|\n",
      "+------------------------------------------------------------+\n",
      "\n"
     ]
    }
   ],
   "source": [
    "\n",
    "pipelineModel2 = nlpPipeline2.fit(df)\n",
    "\n",
    "match_df2 = pipelineModel2.transform(df)\n",
    "\n",
    "match_df2.select('regex_address.result').show(truncate=400)"
   ]
  },
  {
   "cell_type": "code",
   "execution_count": null,
   "id": "perceived-drinking",
   "metadata": {},
   "outputs": [],
   "source": []
  },
  {
   "cell_type": "code",
   "execution_count": 414,
   "id": "diverse-suicide",
   "metadata": {},
   "outputs": [
    {
     "name": "stdout",
     "output_type": "stream",
     "text": [
      "root\n",
      " |-- text: string (nullable = true)\n",
      " |-- assembled: array (nullable = true)\n",
      " |    |-- element: struct (containsNull = true)\n",
      " |    |    |-- annotatorType: string (nullable = true)\n",
      " |    |    |-- begin: integer (nullable = false)\n",
      " |    |    |-- end: integer (nullable = false)\n",
      " |    |    |-- result: string (nullable = true)\n",
      " |    |    |-- metadata: map (nullable = true)\n",
      " |    |    |    |-- key: string\n",
      " |    |    |    |-- value: string (valueContainsNull = true)\n",
      " |    |    |-- embeddings: array (nullable = true)\n",
      " |    |    |    |-- element: float (containsNull = false)\n",
      " |-- regex_address: array (nullable = true)\n",
      " |    |-- element: struct (containsNull = true)\n",
      " |    |    |-- annotatorType: string (nullable = true)\n",
      " |    |    |-- begin: integer (nullable = false)\n",
      " |    |    |-- end: integer (nullable = false)\n",
      " |    |    |-- result: string (nullable = true)\n",
      " |    |    |-- metadata: map (nullable = true)\n",
      " |    |    |    |-- key: string\n",
      " |    |    |    |-- value: string (valueContainsNull = true)\n",
      " |    |    |-- embeddings: array (nullable = true)\n",
      " |    |    |    |-- element: float (containsNull = false)\n",
      "\n"
     ]
    }
   ],
   "source": [
    "match_df2.printSchema()"
   ]
  },
  {
   "cell_type": "code",
   "execution_count": 416,
   "id": "statistical-panic",
   "metadata": {},
   "outputs": [
    {
     "name": "stdout",
     "output_type": "stream",
     "text": [
      "+----------------------------------------------------------+\n",
      "|col                                                       |\n",
      "+----------------------------------------------------------+\n",
      "|location-text ng-binding\">Masná, Praha 1 - Staré Město<   |\n",
      "|location-text ng-binding\">Velvarská, Horoměřice</span>    |\n",
      "|location-text ng-binding\">Libušina, Karlovy Vary</span>   |\n",
      "|location-text ng-binding\">Pod Lipami, Praha 3 - Žižkov    |\n",
      "|location-text ng-binding\">Drnovská, Praha 6 - Ruzyně</span|\n",
      "|location-text ng-binding\">V Průhoně, Mukařov - Žerno      |\n",
      "|location-text ng-binding\">Mladoboleslavská, Mělník</span> |\n",
      "|location-text ng-binding\">Grafická, Praha 5 - Smíchov</spa|\n",
      "|location-text ng-binding\">Sametová, Liberec - Liberec VI-R|\n",
      "|location-text ng-binding\">Jakubská, Praha 1 - Staré Město<|\n",
      "+----------------------------------------------------------+\n",
      "\n"
     ]
    }
   ],
   "source": [
    "from pyspark.sql import functions as F\n",
    "\n",
    "match_df2.select(F.explode('regex_address.result')).show(truncate=False)"
   ]
  },
  {
   "cell_type": "code",
   "execution_count": 417,
   "id": "deadly-overhead",
   "metadata": {},
   "outputs": [
    {
     "data": {
      "text/html": [
       "<div>\n",
       "<style scoped>\n",
       "    .dataframe tbody tr th:only-of-type {\n",
       "        vertical-align: middle;\n",
       "    }\n",
       "\n",
       "    .dataframe tbody tr th {\n",
       "        vertical-align: top;\n",
       "    }\n",
       "\n",
       "    .dataframe thead th {\n",
       "        text-align: right;\n",
       "    }\n",
       "</style>\n",
       "<table border=\"1\" class=\"dataframe\">\n",
       "  <thead>\n",
       "    <tr style=\"text-align: right;\">\n",
       "      <th></th>\n",
       "      <th>location-text ng-binding</th>\n",
       "    </tr>\n",
       "  </thead>\n",
       "  <tbody>\n",
       "    <tr>\n",
       "      <th>0</th>\n",
       "      <td>location-text ng-binding\"&gt;Masná, Praha 1 - Sta...</td>\n",
       "    </tr>\n",
       "    <tr>\n",
       "      <th>1</th>\n",
       "      <td>location-text ng-binding\"&gt;Velvarská, Horoměřic...</td>\n",
       "    </tr>\n",
       "    <tr>\n",
       "      <th>2</th>\n",
       "      <td>location-text ng-binding\"&gt;Libušina, Karlovy Va...</td>\n",
       "    </tr>\n",
       "    <tr>\n",
       "      <th>3</th>\n",
       "      <td>location-text ng-binding\"&gt;Pod Lipami, Praha 3 ...</td>\n",
       "    </tr>\n",
       "    <tr>\n",
       "      <th>4</th>\n",
       "      <td>location-text ng-binding\"&gt;Drnovská, Praha 6 - ...</td>\n",
       "    </tr>\n",
       "    <tr>\n",
       "      <th>5</th>\n",
       "      <td>location-text ng-binding\"&gt;V Průhoně, Mukařov -...</td>\n",
       "    </tr>\n",
       "    <tr>\n",
       "      <th>6</th>\n",
       "      <td>location-text ng-binding\"&gt;Mladoboleslavská, Mě...</td>\n",
       "    </tr>\n",
       "    <tr>\n",
       "      <th>7</th>\n",
       "      <td>location-text ng-binding\"&gt;Grafická, Praha 5 - ...</td>\n",
       "    </tr>\n",
       "    <tr>\n",
       "      <th>8</th>\n",
       "      <td>location-text ng-binding\"&gt;Sametová, Liberec - ...</td>\n",
       "    </tr>\n",
       "    <tr>\n",
       "      <th>9</th>\n",
       "      <td>location-text ng-binding\"&gt;Jakubská, Praha 1 - ...</td>\n",
       "    </tr>\n",
       "  </tbody>\n",
       "</table>\n",
       "</div>"
      ],
      "text/plain": [
       "                            location-text ng-binding\n",
       "0  location-text ng-binding\">Masná, Praha 1 - Sta...\n",
       "1  location-text ng-binding\">Velvarská, Horoměřic...\n",
       "2  location-text ng-binding\">Libušina, Karlovy Va...\n",
       "3  location-text ng-binding\">Pod Lipami, Praha 3 ...\n",
       "4  location-text ng-binding\">Drnovská, Praha 6 - ...\n",
       "5  location-text ng-binding\">V Průhoně, Mukařov -...\n",
       "6  location-text ng-binding\">Mladoboleslavská, Mě...\n",
       "7  location-text ng-binding\">Grafická, Praha 5 - ...\n",
       "8  location-text ng-binding\">Sametová, Liberec - ...\n",
       "9  location-text ng-binding\">Jakubská, Praha 1 - ..."
      ]
     },
     "execution_count": 417,
     "metadata": {},
     "output_type": "execute_result"
    }
   ],
   "source": [
    "result_df2 = match_df2.select(F.explode('regex_address.result').alias('location-text ng-binding')).toPandas()\n",
    "result_df2"
   ]
  },
  {
   "cell_type": "code",
   "execution_count": null,
   "id": "polish-michael",
   "metadata": {},
   "outputs": [],
   "source": []
  }
 ],
 "metadata": {
  "kernelspec": {
   "display_name": "Python 3",
   "language": "python",
   "name": "python3"
  },
  "language_info": {
   "codemirror_mode": {
    "name": "ipython",
    "version": 3
   },
   "file_extension": ".py",
   "mimetype": "text/x-python",
   "name": "python",
   "nbconvert_exporter": "python",
   "pygments_lexer": "ipython3",
   "version": "3.6.9"
  }
 },
 "nbformat": 4,
 "nbformat_minor": 5
}
