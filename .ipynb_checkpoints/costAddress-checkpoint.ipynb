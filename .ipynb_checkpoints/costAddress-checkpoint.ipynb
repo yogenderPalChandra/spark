{
 "cells": [
  {
   "cell_type": "code",
   "execution_count": 4,
   "id": "informative-graph",
   "metadata": {},
   "outputs": [],
   "source": [
    "from pyspark.sql import SQLContext\n",
    "from pyspark import SparkContext\n",
    "from pyspark.sql.types import *\n",
    "from pyspark.sql import SQLContext, Row\n",
    "from sparknlp.base import *\n",
    "from sparknlp.pretrained import PretrainedPipeline\n",
    "import sparknlp\n",
    "from pyspark.sql import SparkSession\n",
    "\n",
    "\n",
    "from sparknlp.annotator import *\n",
    "from pyspark.ml import Pipeline\n",
    "#from py4j.java_gateway import java_import\n",
    "import sparknlp\n",
    "#sc = sparknlp.start()\n",
    "sc.stop()"
   ]
  },
  {
   "cell_type": "code",
   "execution_count": 5,
   "id": "surface-appreciation",
   "metadata": {},
   "outputs": [
    {
     "name": "stderr",
     "output_type": "stream",
     "text": [
      "/home/yogender/.local/lib/python3.6/site-packages/pyspark/context.py:238: FutureWarning: Python 3.6 support is deprecated in Spark 3.2.\n",
      "  FutureWarning\n",
      "/home/yogender/.local/lib/python3.6/site-packages/pyspark/sql/context.py:79: FutureWarning: Deprecated in 3.0.0. Use SparkSession.builder.getOrCreate() instead.\n",
      "  FutureWarning\n"
     ]
    }
   ],
   "source": [
    "sc = SparkContext()\n",
    "sqlContext = SQLContext(sc)\n"
   ]
  },
  {
   "cell_type": "code",
   "execution_count": 6,
   "id": "adjustable-birth",
   "metadata": {},
   "outputs": [],
   "source": [
    "rdd_l = sc.wholeTextFiles(\"./*.html\")"
   ]
  },
  {
   "cell_type": "code",
   "execution_count": 7,
   "id": "built-calgary",
   "metadata": {},
   "outputs": [
    {
     "name": "stdout",
     "output_type": "stream",
     "text": [
      "[<Row('Masná, Praha 1 - Staré Město')>, <Row('Velvarská, Horoměřice')>, <Row('Libušina, Karlovy Vary')>, <Row('Pod Lipami, Praha 3 - Žižkov')>, <Row('Drnovská, Praha 6 - Ruzyně')>, <Row('V Průhoně, Mukařov - Žernovka')>, <Row('Mladoboleslavská, Mělník')>, <Row('Grafická, Praha 5 - Smíchov')>, <Row('Sametová, Liberec - Liberec VI-Rochlice')>, <Row('Jakubská, Praha 1 - Staré Město')>]\n"
     ]
    },
    {
     "data": {
      "text/plain": [
       "[Row(address='Masná, Praha 1 - Staré Město'),\n",
       " Row(address='Velvarská, Horoměřice'),\n",
       " Row(address='Libušina, Karlovy Vary'),\n",
       " Row(address='Pod Lipami, Praha 3 - Žižkov'),\n",
       " Row(address='Drnovská, Praha 6 - Ruzyně'),\n",
       " Row(address='V Průhoně, Mukařov - Žernovka'),\n",
       " Row(address='Mladoboleslavská, Mělník'),\n",
       " Row(address='Grafická, Praha 5 - Smíchov'),\n",
       " Row(address='Sametová, Liberec - Liberec VI-Rochlice'),\n",
       " Row(address='Jakubská, Praha 1 - Staré Město')]"
      ]
     },
     "execution_count": 7,
     "metadata": {},
     "output_type": "execute_result"
    }
   ],
   "source": [
    "rdd1 = rdd_l.map(lambda x: x[1]).map(lambda x: x.split('\\n\\t')).map(lambda x: x[6]) \\\n",
    ".map(lambda x: x.split('prodeji')).map(lambda x: x[1]).map(lambda x: x.split(';')) \\\n",
    ".map(lambda x: x[0]).map(lambda x: x.strip(' '))\n",
    "\n",
    "rows_split_addr = rdd1.map(lambda p: Row(p))\n",
    "\n",
    "print(rows_split_addr.collect())\n",
    "\n",
    "schemaString = \"address\"\n",
    "fields = [StructField(field_name, StringType(), True) for field_name in schemaString.split()]\n",
    "schema = StructType(fields)\n",
    "addressSchema = sqlContext.createDataFrame(rows_split_addr, schema)\n",
    "#print(addressSchema.collect())\n",
    "addressSchema.repartition(1).write.csv(path='./data.csv', mode=\"append\", header=\"true\")\n",
    "addressSchema.collect()"
   ]
  },
  {
   "cell_type": "code",
   "execution_count": 8,
   "id": "capable-disability",
   "metadata": {},
   "outputs": [],
   "source": [
    "address_pd_df = addressSchema.toPandas()"
   ]
  },
  {
   "cell_type": "code",
   "execution_count": 10,
   "id": "hungarian-brooks",
   "metadata": {},
   "outputs": [
    {
     "data": {
      "text/html": [
       "<div>\n",
       "<style scoped>\n",
       "    .dataframe tbody tr th:only-of-type {\n",
       "        vertical-align: middle;\n",
       "    }\n",
       "\n",
       "    .dataframe tbody tr th {\n",
       "        vertical-align: top;\n",
       "    }\n",
       "\n",
       "    .dataframe thead th {\n",
       "        text-align: right;\n",
       "    }\n",
       "</style>\n",
       "<table border=\"1\" class=\"dataframe\">\n",
       "  <thead>\n",
       "    <tr style=\"text-align: right;\">\n",
       "      <th></th>\n",
       "      <th>address</th>\n",
       "    </tr>\n",
       "  </thead>\n",
       "  <tbody>\n",
       "    <tr>\n",
       "      <th>0</th>\n",
       "      <td>Masná, Praha 1 - Staré Město</td>\n",
       "    </tr>\n",
       "    <tr>\n",
       "      <th>1</th>\n",
       "      <td>Velvarská, Horoměřice</td>\n",
       "    </tr>\n",
       "    <tr>\n",
       "      <th>2</th>\n",
       "      <td>Libušina, Karlovy Vary</td>\n",
       "    </tr>\n",
       "    <tr>\n",
       "      <th>3</th>\n",
       "      <td>Pod Lipami, Praha 3 - Žižkov</td>\n",
       "    </tr>\n",
       "    <tr>\n",
       "      <th>4</th>\n",
       "      <td>Drnovská, Praha 6 - Ruzyně</td>\n",
       "    </tr>\n",
       "    <tr>\n",
       "      <th>5</th>\n",
       "      <td>V Průhoně, Mukařov - Žernovka</td>\n",
       "    </tr>\n",
       "    <tr>\n",
       "      <th>6</th>\n",
       "      <td>Mladoboleslavská, Mělník</td>\n",
       "    </tr>\n",
       "    <tr>\n",
       "      <th>7</th>\n",
       "      <td>Grafická, Praha 5 - Smíchov</td>\n",
       "    </tr>\n",
       "    <tr>\n",
       "      <th>8</th>\n",
       "      <td>Sametová, Liberec - Liberec VI-Rochlice</td>\n",
       "    </tr>\n",
       "    <tr>\n",
       "      <th>9</th>\n",
       "      <td>Jakubská, Praha 1 - Staré Město</td>\n",
       "    </tr>\n",
       "  </tbody>\n",
       "</table>\n",
       "</div>"
      ],
      "text/plain": [
       "                                   address\n",
       "0             Masná, Praha 1 - Staré Město\n",
       "1                    Velvarská, Horoměřice\n",
       "2                   Libušina, Karlovy Vary\n",
       "3             Pod Lipami, Praha 3 - Žižkov\n",
       "4               Drnovská, Praha 6 - Ruzyně\n",
       "5            V Průhoně, Mukařov - Žernovka\n",
       "6                 Mladoboleslavská, Mělník\n",
       "7              Grafická, Praha 5 - Smíchov\n",
       "8  Sametová, Liberec - Liberec VI-Rochlice\n",
       "9          Jakubská, Praha 1 - Staré Město"
      ]
     },
     "execution_count": 10,
     "metadata": {},
     "output_type": "execute_result"
    }
   ],
   "source": [
    "address_pd_df"
   ]
  },
  {
   "cell_type": "code",
   "execution_count": null,
   "id": "exposed-question",
   "metadata": {},
   "outputs": [],
   "source": []
  },
  {
   "cell_type": "code",
   "execution_count": 11,
   "id": "electoral-automation",
   "metadata": {},
   "outputs": [],
   "source": [
    "sc.stop()"
   ]
  },
  {
   "cell_type": "code",
   "execution_count": 26,
   "id": "distant-implementation",
   "metadata": {},
   "outputs": [],
   "source": [
    "spark= sparknlp.start()"
   ]
  },
  {
   "cell_type": "code",
   "execution_count": 27,
   "id": "invisible-loading",
   "metadata": {},
   "outputs": [],
   "source": [
    "sqlContext = SQLContext(spark)"
   ]
  },
  {
   "cell_type": "code",
   "execution_count": 29,
   "id": "pressing-acting",
   "metadata": {},
   "outputs": [],
   "source": [
    "rdd_l = spark.sparkContext.wholeTextFiles(\"./*.html\")"
   ]
  },
  {
   "cell_type": "code",
   "execution_count": 30,
   "id": "central-sword",
   "metadata": {},
   "outputs": [],
   "source": [
    "df = rdd_l.toDF(schema=[\"filename\", \"text\"]).select(\"text\")"
   ]
  },
  {
   "cell_type": "code",
   "execution_count": 31,
   "id": "after-competition",
   "metadata": {},
   "outputs": [],
   "source": [
    "rules = '''\n",
    "\n",
    "\\d+&\\w+;\\d+&\\w+;Kč* \n",
    "\n",
    "'''\n",
    "#\\S*\\d+\\S* Kč* \n",
    "with open('regex_rules.txt', 'w') as f:\n",
    "    \n",
    "    f.write(rules)"
   ]
  },
  {
   "cell_type": "code",
   "execution_count": 32,
   "id": "vulnerable-mount",
   "metadata": {},
   "outputs": [
    {
     "data": {
      "text/plain": [
       "{Param(parent='RegexMatcher_bdc031bdeff8', name='lazyAnnotator', doc='Whether this AnnotatorModel acts as lazy in RecursivePipelines'): False,\n",
       " Param(parent='RegexMatcher_bdc031bdeff8', name='strategy', doc='MATCH_FIRST|MATCH_ALL|MATCH_COMPLETE'): 'MATCH_ALL'}"
      ]
     },
     "execution_count": 32,
     "metadata": {},
     "output_type": "execute_result"
    }
   ],
   "source": [
    "RegexMatcher().extractParamMap()"
   ]
  },
  {
   "cell_type": "code",
   "execution_count": null,
   "id": "accessible-heating",
   "metadata": {},
   "outputs": [],
   "source": []
  },
  {
   "cell_type": "code",
   "execution_count": 91,
   "id": "honey-principal",
   "metadata": {
    "scrolled": true
   },
   "outputs": [
    {
     "name": "stdout",
     "output_type": "stream",
     "text": [
      "+----------------------+\n",
      "|                result|\n",
      "+----------------------+\n",
      "|[500&nbsp;000&nbsp;Kč]|\n",
      "|[200&nbsp;000&nbsp;Kč]|\n",
      "|[854&nbsp;900&nbsp;Kč]|\n",
      "|[565&nbsp;000&nbsp;Kč]|\n",
      "|[475&nbsp;000&nbsp;Kč]|\n",
      "|[500&nbsp;000&nbsp;Kč]|\n",
      "|[530&nbsp;000&nbsp;Kč]|\n",
      "|[511&nbsp;000&nbsp;Kč]|\n",
      "|[850&nbsp;000&nbsp;Kč]|\n",
      "|[490&nbsp;000&nbsp;Kč]|\n",
      "+----------------------+\n",
      "\n"
     ]
    }
   ],
   "source": [
    "\n",
    "\n",
    "\n",
    "\n",
    "documentAssembler = DocumentAssembler()\\\n",
    "    .setInputCol(\"text\")\\\n",
    "    .setOutputCol(\"assembled\")\n",
    "\n",
    "regex_matcher = RegexMatcher()\\\n",
    "    .setInputCols('assembled')\\\n",
    "    .setStrategy(\"MATCH_ALL\")\\\n",
    "    .setOutputCol(\"regex_matches\")\\\n",
    "    .setExternalRules(path='./regex_rules.txt', delimiter=',')\n",
    "\n",
    "nlpPipeline = Pipeline(stages=[\n",
    "    documentAssembler, \n",
    "    regex_matcher\n",
    " ])\n",
    "\n",
    "pipelineModel = nlpPipeline.fit(df)\n",
    "#df = pipelineModel.transform(df)\n",
    "#empty_df = spark.createDataFrame([['']]).toDF(\"text\")\n",
    "\n",
    "#pipelineModel = nlpPipeline.fit(empty_df)\n",
    "\n",
    "match_df = pipelineModel.transform(df)\n",
    "\n",
    "match_df.select('regex_matches.result').show(truncate=50)"
   ]
  },
  {
   "cell_type": "code",
   "execution_count": 47,
   "id": "judicial-brisbane",
   "metadata": {},
   "outputs": [],
   "source": [
    "from pyspark.sql.functions import regexp_replace, col\n",
    "import re"
   ]
  },
  {
   "cell_type": "code",
   "execution_count": 101,
   "id": "little-spell",
   "metadata": {},
   "outputs": [],
   "source": [
    "match_df_flat = match_df.select(\"regex_matches.result\").rdd.flatMap(lambda x: x[0])"
   ]
  },
  {
   "cell_type": "code",
   "execution_count": 167,
   "id": "arctic-england",
   "metadata": {},
   "outputs": [
    {
     "data": {
      "text/plain": [
       "['500&nbsp;000&nbsp;Kč',\n",
       " '200&nbsp;000&nbsp;Kč',\n",
       " '854&nbsp;900&nbsp;Kč',\n",
       " '565&nbsp;000&nbsp;Kč',\n",
       " '475&nbsp;000&nbsp;Kč',\n",
       " '500&nbsp;000&nbsp;Kč',\n",
       " '530&nbsp;000&nbsp;Kč',\n",
       " '511&nbsp;000&nbsp;Kč',\n",
       " '850&nbsp;000&nbsp;Kč',\n",
       " '490&nbsp;000&nbsp;Kč']"
      ]
     },
     "execution_count": 167,
     "metadata": {},
     "output_type": "execute_result"
    }
   ],
   "source": [
    "match_df_flat.collect()"
   ]
  },
  {
   "cell_type": "code",
   "execution_count": 185,
   "id": "judicial-relations",
   "metadata": {},
   "outputs": [],
   "source": [
    "match_df_flat1 = match_df_flat.map(lambda s: s.replace('900&nbsp', 'x')).map(lambda s: s.replace(';', ''))\\\n",
    ".map(lambda s: s.replace('&nbsp000&nbs', '0000')) \\\n",
    ".map(lambda s: s.replace('&nbspx', '9000')) \\\n",
    ".map(lambda s: s.replace('p', '')) \\\n",
    ".map(lambda s: s.replace('Kč', ' Kč')) \\\n",
    ".map(lambda s: s.replace('Kč', ' Kč')) \\"
   ]
  },
  {
   "cell_type": "code",
   "execution_count": 186,
   "id": "dominant-embassy",
   "metadata": {},
   "outputs": [],
   "source": [
    "#match_df_flat1 = match_df_flat.map(lambda s: s.replace('&nbsp', ' ')).map(lambda s: s.replace(';', '')) \\\n",
    "#.map(lambda s: s.replace('000', '0000')) \\"
   ]
  },
  {
   "cell_type": "code",
   "execution_count": 187,
   "id": "copyrighted-quebec",
   "metadata": {},
   "outputs": [
    {
     "data": {
      "text/plain": [
       "['5000000 Kč',\n",
       " '2000000 Kč',\n",
       " '8549000 Kč',\n",
       " '5650000 Kč',\n",
       " '4750000 Kč',\n",
       " '5000000 Kč',\n",
       " '5300000 Kč',\n",
       " '5110000 Kč',\n",
       " '8500000 Kč',\n",
       " '4900000 Kč']"
      ]
     },
     "execution_count": 187,
     "metadata": {},
     "output_type": "execute_result"
    }
   ],
   "source": [
    "match_df_flat1.collect()"
   ]
  },
  {
   "cell_type": "code",
   "execution_count": 188,
   "id": "interim-practitioner",
   "metadata": {},
   "outputs": [],
   "source": [
    "#match_df.withColumn(\"result\", re.sub(r\"&\", \"0\", match_df)).show()"
   ]
  },
  {
   "cell_type": "code",
   "execution_count": 189,
   "id": "martial-oriental",
   "metadata": {},
   "outputs": [],
   "source": [
    "#m = match_df.select('regex_matches.result').replace('&','0')\n"
   ]
  },
  {
   "cell_type": "code",
   "execution_count": 190,
   "id": "fatty-perfume",
   "metadata": {},
   "outputs": [],
   "source": [
    "match_df = match_df.rdd.flatMap(lambda xs: [x[0] for x in xs])"
   ]
  },
  {
   "cell_type": "code",
   "execution_count": 191,
   "id": "apparent-security",
   "metadata": {},
   "outputs": [],
   "source": [
    "#match_df.toDF(schema=[\"filename\", \"text\"]).select(\"text\")"
   ]
  },
  {
   "cell_type": "code",
   "execution_count": 192,
   "id": "color-lightweight",
   "metadata": {},
   "outputs": [],
   "source": [
    "#match_df.select('regex_matches.result').show()"
   ]
  },
  {
   "cell_type": "code",
   "execution_count": 193,
   "id": "proper-desktop",
   "metadata": {},
   "outputs": [],
   "source": [
    "#re.sub(\"$\", '', match_df_flat)"
   ]
  },
  {
   "cell_type": "code",
   "execution_count": 194,
   "id": "naughty-bridal",
   "metadata": {},
   "outputs": [],
   "source": [
    "#m.select('regex_matches.result').show()"
   ]
  },
  {
   "cell_type": "code",
   "execution_count": 196,
   "id": "twelve-combining",
   "metadata": {},
   "outputs": [],
   "source": [
    "#match_df_flat.withColumn(\"result\", regexp_replace(\"result\",\"&\",\"0\")).show()"
   ]
  },
  {
   "cell_type": "code",
   "execution_count": 197,
   "id": "conscious-consequence",
   "metadata": {},
   "outputs": [],
   "source": [
    "from pyspark.sql import Row\n",
    "\n",
    "row = Row(\"cost\") \n",
    "match_df_flat1_df= match_df_flat1.map(row).toDF()\n"
   ]
  },
  {
   "cell_type": "code",
   "execution_count": 148,
   "id": "greek-sierra",
   "metadata": {},
   "outputs": [],
   "source": [
    "#match_df_flat1 = match_df_flat1.toDF()"
   ]
  },
  {
   "cell_type": "code",
   "execution_count": 198,
   "id": "wanted-davis",
   "metadata": {},
   "outputs": [],
   "source": [
    "match_df_pd_cost = match_df_flat1_df.toPandas()\n"
   ]
  },
  {
   "cell_type": "code",
   "execution_count": 199,
   "id": "religious-dining",
   "metadata": {},
   "outputs": [
    {
     "data": {
      "text/html": [
       "<div>\n",
       "<style scoped>\n",
       "    .dataframe tbody tr th:only-of-type {\n",
       "        vertical-align: middle;\n",
       "    }\n",
       "\n",
       "    .dataframe tbody tr th {\n",
       "        vertical-align: top;\n",
       "    }\n",
       "\n",
       "    .dataframe thead th {\n",
       "        text-align: right;\n",
       "    }\n",
       "</style>\n",
       "<table border=\"1\" class=\"dataframe\">\n",
       "  <thead>\n",
       "    <tr style=\"text-align: right;\">\n",
       "      <th></th>\n",
       "      <th>cost</th>\n",
       "    </tr>\n",
       "  </thead>\n",
       "  <tbody>\n",
       "    <tr>\n",
       "      <th>0</th>\n",
       "      <td>5000000 Kč</td>\n",
       "    </tr>\n",
       "    <tr>\n",
       "      <th>1</th>\n",
       "      <td>2000000 Kč</td>\n",
       "    </tr>\n",
       "    <tr>\n",
       "      <th>2</th>\n",
       "      <td>8549000 Kč</td>\n",
       "    </tr>\n",
       "    <tr>\n",
       "      <th>3</th>\n",
       "      <td>5650000 Kč</td>\n",
       "    </tr>\n",
       "    <tr>\n",
       "      <th>4</th>\n",
       "      <td>4750000 Kč</td>\n",
       "    </tr>\n",
       "    <tr>\n",
       "      <th>5</th>\n",
       "      <td>5000000 Kč</td>\n",
       "    </tr>\n",
       "    <tr>\n",
       "      <th>6</th>\n",
       "      <td>5300000 Kč</td>\n",
       "    </tr>\n",
       "    <tr>\n",
       "      <th>7</th>\n",
       "      <td>5110000 Kč</td>\n",
       "    </tr>\n",
       "    <tr>\n",
       "      <th>8</th>\n",
       "      <td>8500000 Kč</td>\n",
       "    </tr>\n",
       "    <tr>\n",
       "      <th>9</th>\n",
       "      <td>4900000 Kč</td>\n",
       "    </tr>\n",
       "  </tbody>\n",
       "</table>\n",
       "</div>"
      ],
      "text/plain": [
       "         cost\n",
       "0  5000000 Kč\n",
       "1  2000000 Kč\n",
       "2  8549000 Kč\n",
       "3  5650000 Kč\n",
       "4  4750000 Kč\n",
       "5  5000000 Kč\n",
       "6  5300000 Kč\n",
       "7  5110000 Kč\n",
       "8  8500000 Kč\n",
       "9  4900000 Kč"
      ]
     },
     "execution_count": 199,
     "metadata": {},
     "output_type": "execute_result"
    }
   ],
   "source": [
    "match_df_pd_cost"
   ]
  },
  {
   "cell_type": "code",
   "execution_count": 200,
   "id": "civic-height",
   "metadata": {},
   "outputs": [],
   "source": [
    "import pandas as pd\n",
    "df_concat_cost_address = pd.concat([match_df_pd_cost,address_pd_df], axis=1)"
   ]
  },
  {
   "cell_type": "code",
   "execution_count": 201,
   "id": "taken-insulin",
   "metadata": {},
   "outputs": [
    {
     "data": {
      "text/html": [
       "<div>\n",
       "<style scoped>\n",
       "    .dataframe tbody tr th:only-of-type {\n",
       "        vertical-align: middle;\n",
       "    }\n",
       "\n",
       "    .dataframe tbody tr th {\n",
       "        vertical-align: top;\n",
       "    }\n",
       "\n",
       "    .dataframe thead th {\n",
       "        text-align: right;\n",
       "    }\n",
       "</style>\n",
       "<table border=\"1\" class=\"dataframe\">\n",
       "  <thead>\n",
       "    <tr style=\"text-align: right;\">\n",
       "      <th></th>\n",
       "      <th>cost</th>\n",
       "      <th>address</th>\n",
       "    </tr>\n",
       "  </thead>\n",
       "  <tbody>\n",
       "    <tr>\n",
       "      <th>0</th>\n",
       "      <td>5000000 Kč</td>\n",
       "      <td>Masná, Praha 1 - Staré Město</td>\n",
       "    </tr>\n",
       "    <tr>\n",
       "      <th>1</th>\n",
       "      <td>2000000 Kč</td>\n",
       "      <td>Velvarská, Horoměřice</td>\n",
       "    </tr>\n",
       "    <tr>\n",
       "      <th>2</th>\n",
       "      <td>8549000 Kč</td>\n",
       "      <td>Libušina, Karlovy Vary</td>\n",
       "    </tr>\n",
       "    <tr>\n",
       "      <th>3</th>\n",
       "      <td>5650000 Kč</td>\n",
       "      <td>Pod Lipami, Praha 3 - Žižkov</td>\n",
       "    </tr>\n",
       "    <tr>\n",
       "      <th>4</th>\n",
       "      <td>4750000 Kč</td>\n",
       "      <td>Drnovská, Praha 6 - Ruzyně</td>\n",
       "    </tr>\n",
       "    <tr>\n",
       "      <th>5</th>\n",
       "      <td>5000000 Kč</td>\n",
       "      <td>V Průhoně, Mukařov - Žernovka</td>\n",
       "    </tr>\n",
       "    <tr>\n",
       "      <th>6</th>\n",
       "      <td>5300000 Kč</td>\n",
       "      <td>Mladoboleslavská, Mělník</td>\n",
       "    </tr>\n",
       "    <tr>\n",
       "      <th>7</th>\n",
       "      <td>5110000 Kč</td>\n",
       "      <td>Grafická, Praha 5 - Smíchov</td>\n",
       "    </tr>\n",
       "    <tr>\n",
       "      <th>8</th>\n",
       "      <td>8500000 Kč</td>\n",
       "      <td>Sametová, Liberec - Liberec VI-Rochlice</td>\n",
       "    </tr>\n",
       "    <tr>\n",
       "      <th>9</th>\n",
       "      <td>4900000 Kč</td>\n",
       "      <td>Jakubská, Praha 1 - Staré Město</td>\n",
       "    </tr>\n",
       "  </tbody>\n",
       "</table>\n",
       "</div>"
      ],
      "text/plain": [
       "         cost                                  address\n",
       "0  5000000 Kč             Masná, Praha 1 - Staré Město\n",
       "1  2000000 Kč                    Velvarská, Horoměřice\n",
       "2  8549000 Kč                   Libušina, Karlovy Vary\n",
       "3  5650000 Kč             Pod Lipami, Praha 3 - Žižkov\n",
       "4  4750000 Kč               Drnovská, Praha 6 - Ruzyně\n",
       "5  5000000 Kč            V Průhoně, Mukařov - Žernovka\n",
       "6  5300000 Kč                 Mladoboleslavská, Mělník\n",
       "7  5110000 Kč              Grafická, Praha 5 - Smíchov\n",
       "8  8500000 Kč  Sametová, Liberec - Liberec VI-Rochlice\n",
       "9  4900000 Kč          Jakubská, Praha 1 - Staré Město"
      ]
     },
     "execution_count": 201,
     "metadata": {},
     "output_type": "execute_result"
    }
   ],
   "source": [
    "df_concat_cost_address"
   ]
  },
  {
   "cell_type": "code",
   "execution_count": 202,
   "id": "crucial-humidity",
   "metadata": {},
   "outputs": [],
   "source": [
    "df_concat_cost_address.to_csv('cost_address', sep=',', index=False)"
   ]
  },
  {
   "cell_type": "code",
   "execution_count": 203,
   "id": "smaller-preliminary",
   "metadata": {},
   "outputs": [],
   "source": [
    "df = pd.read_csv('./cost_address', sep=',')"
   ]
  },
  {
   "cell_type": "code",
   "execution_count": 205,
   "id": "chinese-wrestling",
   "metadata": {},
   "outputs": [
    {
     "data": {
      "text/html": [
       "<div>\n",
       "<style scoped>\n",
       "    .dataframe tbody tr th:only-of-type {\n",
       "        vertical-align: middle;\n",
       "    }\n",
       "\n",
       "    .dataframe tbody tr th {\n",
       "        vertical-align: top;\n",
       "    }\n",
       "\n",
       "    .dataframe thead th {\n",
       "        text-align: right;\n",
       "    }\n",
       "</style>\n",
       "<table border=\"1\" class=\"dataframe\">\n",
       "  <thead>\n",
       "    <tr style=\"text-align: right;\">\n",
       "      <th></th>\n",
       "      <th>cost</th>\n",
       "      <th>address</th>\n",
       "    </tr>\n",
       "  </thead>\n",
       "  <tbody>\n",
       "    <tr>\n",
       "      <th>0</th>\n",
       "      <td>5000000 Kč</td>\n",
       "      <td>Masná, Praha 1 - Staré Město</td>\n",
       "    </tr>\n",
       "    <tr>\n",
       "      <th>1</th>\n",
       "      <td>2000000 Kč</td>\n",
       "      <td>Velvarská, Horoměřice</td>\n",
       "    </tr>\n",
       "    <tr>\n",
       "      <th>2</th>\n",
       "      <td>8549000 Kč</td>\n",
       "      <td>Libušina, Karlovy Vary</td>\n",
       "    </tr>\n",
       "    <tr>\n",
       "      <th>3</th>\n",
       "      <td>5650000 Kč</td>\n",
       "      <td>Pod Lipami, Praha 3 - Žižkov</td>\n",
       "    </tr>\n",
       "    <tr>\n",
       "      <th>4</th>\n",
       "      <td>4750000 Kč</td>\n",
       "      <td>Drnovská, Praha 6 - Ruzyně</td>\n",
       "    </tr>\n",
       "    <tr>\n",
       "      <th>5</th>\n",
       "      <td>5000000 Kč</td>\n",
       "      <td>V Průhoně, Mukařov - Žernovka</td>\n",
       "    </tr>\n",
       "    <tr>\n",
       "      <th>6</th>\n",
       "      <td>5300000 Kč</td>\n",
       "      <td>Mladoboleslavská, Mělník</td>\n",
       "    </tr>\n",
       "    <tr>\n",
       "      <th>7</th>\n",
       "      <td>5110000 Kč</td>\n",
       "      <td>Grafická, Praha 5 - Smíchov</td>\n",
       "    </tr>\n",
       "    <tr>\n",
       "      <th>8</th>\n",
       "      <td>8500000 Kč</td>\n",
       "      <td>Sametová, Liberec - Liberec VI-Rochlice</td>\n",
       "    </tr>\n",
       "    <tr>\n",
       "      <th>9</th>\n",
       "      <td>4900000 Kč</td>\n",
       "      <td>Jakubská, Praha 1 - Staré Město</td>\n",
       "    </tr>\n",
       "  </tbody>\n",
       "</table>\n",
       "</div>"
      ],
      "text/plain": [
       "         cost                                  address\n",
       "0  5000000 Kč             Masná, Praha 1 - Staré Město\n",
       "1  2000000 Kč                    Velvarská, Horoměřice\n",
       "2  8549000 Kč                   Libušina, Karlovy Vary\n",
       "3  5650000 Kč             Pod Lipami, Praha 3 - Žižkov\n",
       "4  4750000 Kč               Drnovská, Praha 6 - Ruzyně\n",
       "5  5000000 Kč            V Průhoně, Mukařov - Žernovka\n",
       "6  5300000 Kč                 Mladoboleslavská, Mělník\n",
       "7  5110000 Kč              Grafická, Praha 5 - Smíchov\n",
       "8  8500000 Kč  Sametová, Liberec - Liberec VI-Rochlice\n",
       "9  4900000 Kč          Jakubská, Praha 1 - Staré Město"
      ]
     },
     "execution_count": 205,
     "metadata": {},
     "output_type": "execute_result"
    }
   ],
   "source": [
    "df"
   ]
  },
  {
   "cell_type": "code",
   "execution_count": null,
   "id": "demographic-channels",
   "metadata": {},
   "outputs": [],
   "source": []
  },
  {
   "cell_type": "code",
   "execution_count": null,
   "id": "moved-withdrawal",
   "metadata": {},
   "outputs": [],
   "source": []
  }
 ],
 "metadata": {
  "kernelspec": {
   "display_name": "Python 3",
   "language": "python",
   "name": "python3"
  },
  "language_info": {
   "codemirror_mode": {
    "name": "ipython",
    "version": 3
   },
   "file_extension": ".py",
   "mimetype": "text/x-python",
   "name": "python",
   "nbconvert_exporter": "python",
   "pygments_lexer": "ipython3",
   "version": "3.6.9"
  }
 },
 "nbformat": 4,
 "nbformat_minor": 5
}
