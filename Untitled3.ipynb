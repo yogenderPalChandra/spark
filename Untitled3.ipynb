{
 "cells": [
  {
   "cell_type": "code",
   "execution_count": 1,
   "id": "square-ecology",
   "metadata": {},
   "outputs": [],
   "source": [
    "from pyspark.sql import SQLContext\n",
    "from pyspark import SparkContext\n",
    "from pyspark.sql.types import *\n",
    "from pyspark.sql import SQLContext, Row\n",
    "from sparknlp.base import *\n",
    "from sparknlp.pretrained import PretrainedPipeline\n",
    "import sparknlp\n",
    "from pyspark.sql import SparkSession\n",
    "\n",
    "\n",
    "from sparknlp.annotator import *\n",
    "from pyspark.ml import Pipeline\n",
    "#from py4j.java_gateway import java_import\n",
    "import sparknlp\n",
    "from pyspark.sql.functions import udf\n",
    "#sc.stop()"
   ]
  },
  {
   "cell_type": "code",
   "execution_count": 2,
   "id": "consolidated-director",
   "metadata": {},
   "outputs": [
    {
     "name": "stderr",
     "output_type": "stream",
     "text": [
      "/home/yogender/.local/lib/python3.6/site-packages/pyspark/context.py:238: FutureWarning: Python 3.6 support is deprecated in Spark 3.2.\n",
      "  FutureWarning\n",
      "/home/yogender/.local/lib/python3.6/site-packages/pyspark/sql/context.py:79: FutureWarning: Deprecated in 3.0.0. Use SparkSession.builder.getOrCreate() instead.\n",
      "  FutureWarning\n"
     ]
    }
   ],
   "source": [
    "sc = SparkContext()\n",
    "sqlContext = SQLContext(sc)\n"
   ]
  },
  {
   "cell_type": "code",
   "execution_count": 3,
   "id": "level-scanning",
   "metadata": {},
   "outputs": [],
   "source": [
    "rdd_e=sc.wholeTextFiles(\"./*.html\")"
   ]
  },
  {
   "cell_type": "code",
   "execution_count": 4,
   "id": "productive-investing",
   "metadata": {},
   "outputs": [],
   "source": [
    "rdd_e_split = rdd_e.map(lambda x: x[1])"
   ]
  },
  {
   "cell_type": "code",
   "execution_count": 5,
   "id": "photographic-cooking",
   "metadata": {},
   "outputs": [],
   "source": [
    "import pandas as pd\n",
    "from bs4 import BeautifulSoup\n",
    "def processRecord_e(file):\n",
    "    \n",
    "    #import lxml.html.usedoctest\n",
    "    #page = urlopen(url)\n",
    "    #root = lxml.html.fromstring(tag_soup)\n",
    "    soup = BeautifulSoup(file, \"html.parser\")\n",
    "    #body = fromstring(tag_soup).find('.//body')\n",
    "    #rtnVal = soup.prettify()\n",
    "    #print (list(soup.children))\n",
    "    classes = []\n",
    "\n",
    "    for element in soup.find_all('ul', class_='params1'):\n",
    "        for il in element.find_all('li'):\n",
    "            text = il.get_text(strip=True).replace(u'\\xa0', u' ')\n",
    "            #text2 = il2.get_text(strip=True).replace(u'\\xa0', u' ')\n",
    "            #print ('text1 is :',text1)\n",
    "            #print ('text2 is :',text2)\n",
    "            classes.append(text)\n",
    "            #classes2.append(text2)\n",
    "    #for element in classes():\n",
    "    #    print (element)\n",
    "    #df = pd.DataFrame([classes1, classes1])\n",
    "    print ('length of classes is:', classes)\n",
    "    return classes\n"
   ]
  },
  {
   "cell_type": "code",
   "execution_count": null,
   "id": "silver-breach",
   "metadata": {},
   "outputs": [],
   "source": []
  },
  {
   "cell_type": "code",
   "execution_count": 12,
   "id": "olympic-secret",
   "metadata": {},
   "outputs": [],
   "source": [
    "from pyspark.sql import Row\n",
    "\n",
    "row = Row(\"val\")\n",
    "rdd_df = rdd_e_split.map(row).toDF()"
   ]
  },
  {
   "cell_type": "code",
   "execution_count": 13,
   "id": "parallel-worth",
   "metadata": {},
   "outputs": [],
   "source": [
    "#soup = BeautifulSoup(rdd_df, \"html.parser\")"
   ]
  },
  {
   "cell_type": "code",
   "execution_count": 15,
   "id": "following-october",
   "metadata": {},
   "outputs": [],
   "source": [
    "#processRecord_e(rdd_df)"
   ]
  },
  {
   "cell_type": "code",
   "execution_count": null,
   "id": "purple-netherlands",
   "metadata": {},
   "outputs": [],
   "source": []
  },
  {
   "cell_type": "code",
   "execution_count": null,
   "id": "industrial-waterproof",
   "metadata": {},
   "outputs": [],
   "source": []
  }
 ],
 "metadata": {
  "kernelspec": {
   "display_name": "Python 3",
   "language": "python",
   "name": "python3"
  },
  "language_info": {
   "codemirror_mode": {
    "name": "ipython",
    "version": 3
   },
   "file_extension": ".py",
   "mimetype": "text/x-python",
   "name": "python",
   "nbconvert_exporter": "python",
   "pygments_lexer": "ipython3",
   "version": "3.6.9"
  }
 },
 "nbformat": 4,
 "nbformat_minor": 5
}
